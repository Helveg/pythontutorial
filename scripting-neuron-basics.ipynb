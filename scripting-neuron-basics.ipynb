{
 "cells": [
  {
   "cell_type": "markdown",
   "metadata": {},
   "source": [
    "<h1>Scripting NEURON basics</h1>"
   ]
  },
  {
   "cell_type": "markdown",
   "metadata": {},
   "source": [
    "The objectives of this part of the tutorial are to get familiar with basic operations of NEURON using Python. In this worksheet we will:\n",
    "\n",
    "* Create a passive cell membrane in NEURON.\n",
    "* Create a synaptic stimulus onto the neuron.\n",
    "* Modify parameters of the membrane and stimulus.\n",
    "* Visualize results with bokeh."
   ]
  },
  {
   "cell_type": "markdown",
   "metadata": {},
   "source": [
    "<h2>What is NEURON?</h2>"
   ]
  },
  {
   "cell_type": "markdown",
   "metadata": {},
   "source": [
    "The NEURON simulation environment is a powerful engine for performing simulations of neurons and biophysical neural networks. It permits the construction of biologically realistic membranes with active and passive ion channels, combined with virtual connectivity and electrophysiology tools to drive and measure neuron and network behaviors."
   ]
  },
  {
   "cell_type": "markdown",
   "metadata": {},
   "source": [
    "<h2>Step 1: Import the <tt>neuron</tt> module into Python</h2>"
   ]
  },
  {
   "cell_type": "markdown",
   "metadata": {},
   "source": [
    "Any code that is not part of Python's <a class=\"reference external\" href=\"https://docs.python.org/3/library/functions.html#built-in-funcs\" title=\"(in Python v3.6)\"><span>Built-in Functions</span></a> must be imported. The Python interface to NEURON goes through the <tt>neuron</tt> module, especially the <tt>neuron.h</tt> submodule. The <tt>neuron</tt> module has additional submodules, including <tt>neuron.rxd</tt> for reaction-diffusion dynamics, <tt>neuron.gui2</tt> for Jupyter-compatible PlotShape graphs, and <tt>neuron.gui</tt> for Interviews-based GUI tools. The <tt>neuron.h</tt> submodule also allows loading files, executing code, and calling functions written in HOC, an older scripting language supported by NEURON. This allows the continued use of HOC libraries in Python code."
   ]
  },
  {
   "cell_type": "markdown",
   "metadata": {},
   "source": [
    "To import <tt>neuron</tt>, we <i>could</i> use:"
   ]
  },
  {
   "cell_type": "code",
   "execution_count": 1,
   "metadata": {},
   "outputs": [],
   "source": [
    "import neuron"
   ]
  },
  {
   "cell_type": "markdown",
   "metadata": {},
   "source": [
    "If the above succeeded, it produces no output (in recent versions of NEURON), so how can we know what version of NEURON we have? Simple: ask for the `__version__`:"
   ]
  },
  {
   "cell_type": "code",
   "execution_count": 2,
   "metadata": {},
   "outputs": [
    {
     "name": "stdout",
     "output_type": "stream",
     "text": [
      "7.7.1-2-geecef600\n"
     ]
    }
   ],
   "source": [
    "print(neuron.__version__)"
   ]
  },
  {
   "cell_type": "markdown",
   "metadata": {},
   "source": [
    "There are only a limited number of functions avaiable directly from the <tt>neuron</tt> module. In practice, we usually want to directly import the submodules we need; i.e. <b>do something like the below instead</b>:"
   ]
  },
  {
   "cell_type": "code",
   "execution_count": 3,
   "metadata": {},
   "outputs": [],
   "source": [
    "from neuron import h"
   ]
  },
  {
   "cell_type": "markdown",
   "metadata": {},
   "source": [
    "When using NEURON, you will always want the <tt>h</tt> submodule. You may or may not need to import the additional submodules mentioned above. If you do, they can be imported separately or loaded in one line with a comma separated list, as in:"
   ]
  },
  {
   "cell_type": "code",
   "execution_count": 4,
   "metadata": {},
   "outputs": [],
   "source": [
    "from neuron import h, rxd"
   ]
  },
  {
   "cell_type": "markdown",
   "metadata": {},
   "source": [
    "NB: When importing <tt>h</tt>, etc like this, there is usually no need for importing <tt>neuron</tt> separately."
   ]
  },
  {
   "cell_type": "markdown",
   "metadata": {},
   "source": [
    "<p>NEURON assumes certain default units (concentration in mM, time in ms, voltage in mV), but units can be specified explicitly by importing unit definitions from <tt>neuron.units</tt>. Even if you are using the default units, being explicit makes your code more readable by others. For example:</p>"
   ]
  },
  {
   "cell_type": "code",
   "execution_count": 5,
   "metadata": {},
   "outputs": [],
   "source": [
    "from neuron.units import ms, mV"
   ]
  },
  {
   "cell_type": "markdown",
   "metadata": {},
   "source": [
    "If the above gives you an error, then you are using a version of NEURON older than 7.7. Update before proceeding."
   ]
  },
  {
   "cell_type": "markdown",
   "metadata": {},
   "source": [
    "<h2>Step 2: Create a cell</h2>"
   ]
  },
  {
   "cell_type": "markdown",
   "metadata": {},
   "source": [
    "A <a class=\"reference external\" href=\"https://neuron.yale.edu/neuron/static/py_doc/modelspec/programmatic/topology/geometry.html#geometry\" title=\"(in NEURON v7.5)\"><span class=\"xref std std-ref\">Section</span></a> is the basic morphological building-block in NEURON. We typically think of a Section as an unbranched cable, but it can also be used to represent a soma. Thus a simple model neuron with only a soma can be created as in:"
   ]
  },
  {
   "cell_type": "code",
   "execution_count": 6,
   "metadata": {},
   "outputs": [],
   "source": [
    "soma = h.Section(name='soma')"
   ]
  },
  {
   "cell_type": "markdown",
   "metadata": {},
   "source": [
    "There is no output, so how can we tell that we successfully created a Section?"
   ]
  },
  {
   "cell_type": "markdown",
   "metadata": {},
   "source": [
    "<h3>Aside 1: NEURON's <tt>h.topology</tt> function</h3>"
   ]
  },
  {
   "cell_type": "markdown",
   "metadata": {},
   "source": [
    "<p>NEURON's <tt>h.topology()</tt> function displays the topological structure of the entire model, indicating which sections are connected to which sections, where they are connected, and how many <i>segments</i> each section is divided into.</p>\n",
    "<p>If you're following along with our example, there's not much to see yet since there is only one section, but it does demonstrate that the soma has been created and has one segment (one dash is shown):</p>"
   ]
  },
  {
   "cell_type": "code",
   "execution_count": 7,
   "metadata": {},
   "outputs": [
    {
     "name": "stdout",
     "output_type": "stream",
     "text": [
      "\n",
      "|-|       soma(0-1)\n",
      "\n"
     ]
    },
    {
     "data": {
      "text/plain": [
       "1.0"
      ]
     },
     "execution_count": 7,
     "metadata": {},
     "output_type": "execute_result"
    }
   ],
   "source": [
    "h.topology()"
   ]
  },
  {
   "cell_type": "markdown",
   "metadata": {},
   "source": [
    "The <tt>h.topology()</tt> function displays its data to screen and returns <tt>1.0</tt> indicating success (this function always succeeds). Note: This function is only for displaying data; other methods must be used to store the data in a variable for programmatic analysis."
   ]
  },
  {
   "cell_type": "markdown",
   "metadata": {},
   "source": [
    "<h3>Aside 2: The <tt>psection</tt> method</h3>"
   ]
  },
  {
   "cell_type": "markdown",
   "metadata": {},
   "source": [
    "<p>Every NEURON section has a <tt>psection</tt> method (think: <b>p</b>roperties of the <b>section</b>) that returns a Python dictionary providing a structured data representation of the properties of the section.</p><p>For example, we can query the soma via:</p>"
   ]
  },
  {
   "cell_type": "code",
   "execution_count": 8,
   "metadata": {},
   "outputs": [
    {
     "data": {
      "text/plain": [
       "{'point_processes': {},\n",
       " 'density_mechs': {},\n",
       " 'ions': {},\n",
       " 'morphology': {'L': 100.0,\n",
       "  'diam': [500.0],\n",
       "  'pts3d': [],\n",
       "  'parent': None,\n",
       "  'trueparent': None},\n",
       " 'nseg': 1,\n",
       " 'Ra': 35.4,\n",
       " 'cm': [1.0],\n",
       " 'regions': set(),\n",
       " 'species': set(),\n",
       " 'name': 'soma',\n",
       " 'hoc_internal_name': '__nrnsec_0x1041ef000',\n",
       " 'cell': None}"
      ]
     },
     "execution_count": 8,
     "metadata": {},
     "output_type": "execute_result"
    }
   ],
   "source": [
    "soma.psection()"
   ]
  },
  {
   "cell_type": "markdown",
   "metadata": {},
   "source": [
    "The results tell us the soma is a cylinder with length 100 microns, diameter 500 microns, axial resistivity 35.4 ohm*cm, and specific membrance capacitance 1 μF/cm<sup>2</sup>."
   ]
  },
  {
   "cell_type": "markdown",
   "metadata": {},
   "source": [
    "<b>Note:</b> calling this method does not itself print anything to the screen. Instead it returns a dictionary. We see the contents of the dictionary only because we are running interactively; from a script, nothing would be printed unless we explicitly printed it with <tt>print</tt>, or, better pretty-printed it with <tt>pprint.pprint</tt>."
   ]
  },
  {
   "cell_type": "markdown",
   "metadata": {},
   "source": [
    "Since this is a dictionary, we can extract any properties we want using square brackets. For example, the length of the section is:"
   ]
  },
  {
   "cell_type": "code",
   "execution_count": 9,
   "metadata": {},
   "outputs": [
    {
     "data": {
      "text/plain": [
       "100.0"
      ]
     },
     "execution_count": 9,
     "metadata": {},
     "output_type": "execute_result"
    }
   ],
   "source": [
    "soma.psection()['morphology']['L']"
   ]
  },
  {
   "cell_type": "markdown",
   "metadata": {},
   "source": [
    "All of these values can be individually accessed in more efficient ways, but <tt>psection</tt> provides an overview of the full properties of the section."
   ]
  },
  {
   "cell_type": "markdown",
   "metadata": {},
   "source": [
    "For example, the length of the <tt>soma</tt> is more efficiently available (and settable) via:"
   ]
  },
  {
   "cell_type": "code",
   "execution_count": 10,
   "metadata": {},
   "outputs": [
    {
     "data": {
      "text/plain": [
       "100.0"
      ]
     },
     "execution_count": 10,
     "metadata": {},
     "output_type": "execute_result"
    }
   ],
   "source": [
    "soma.L"
   ]
  },
  {
   "cell_type": "markdown",
   "metadata": {},
   "source": [
    "<tt>soma.psection()['morphology']['diam']</tt> is a list (of length 1 here), with each entry corresponding to the value for each segment. Similarly for <tt>soma.psection()['cm']</tt>, etc."
   ]
  },
  {
   "cell_type": "markdown",
   "metadata": {},
   "source": [
    "<b>Important:</b> You may have noticed that the default diameter is 500 μm, which is excessively large for mammalian neurons. It's the default because it's appropriate for the squid giant axons studied by Hodgkin and Huxley. NEURON also uses squid-relevant values for axial resistivity (<tt>soma.Ra</tt>) and temperature (<tt>h.celsius</tt>). These should all be adjusted for mammalian models."
   ]
  },
  {
   "cell_type": "markdown",
   "metadata": {},
   "source": [
    "<h2>Step 3: Set the cell's morphological properties</h2>"
   ]
  },
  {
   "cell_type": "markdown",
   "metadata": {},
   "source": [
    "Since we're simulating a soma, the default length of 100 μm and diameter of 500 μm are inappropriate. Let's set the length (<tt>L</tt>) and diameter (<tt>diam</tt>) to 20 μm instead:"
   ]
  },
  {
   "cell_type": "code",
   "execution_count": 11,
   "metadata": {},
   "outputs": [],
   "source": [
    "soma.L = 20\n",
    "soma.diam = 20"
   ]
  },
  {
   "cell_type": "markdown",
   "metadata": {},
   "source": [
    "In many models, you will have cells consisting of many connected sections. In brief, this can be done using the Section's <tt>connect</tt> method. That will be described in a subsequent part of the tutorial. For now though, we consider only the soma."
   ]
  },
  {
   "cell_type": "markdown",
   "metadata": {},
   "source": [
    "<h3>Aside 3: Python's <tt>dir</tt> function</h3>"
   ]
  },
  {
   "cell_type": "markdown",
   "metadata": {},
   "source": [
    "We can also probe objects with Python’s built-in <a class=\"reference external\" href=\"https://docs.python.org/3/library/functions.html#dir\" title=\"(in Python v3.6)\"><code class=\"xref py py-func docutils literal\"><span class=\"pre\">dir()</span></code></a> function. Let’s see what it says about soma."
   ]
  },
  {
   "cell_type": "code",
   "execution_count": 12,
   "metadata": {},
   "outputs": [
    {
     "data": {
      "text/plain": [
       "['L',\n",
       " 'Ra',\n",
       " '__call__',\n",
       " '__class__',\n",
       " '__delattr__',\n",
       " '__dir__',\n",
       " '__doc__',\n",
       " '__eq__',\n",
       " '__format__',\n",
       " '__ge__',\n",
       " '__getattribute__',\n",
       " '__gt__',\n",
       " '__hash__',\n",
       " '__init__',\n",
       " '__init_subclass__',\n",
       " '__iter__',\n",
       " '__le__',\n",
       " '__lt__',\n",
       " '__module__',\n",
       " '__ne__',\n",
       " '__new__',\n",
       " '__reduce__',\n",
       " '__reduce_ex__',\n",
       " '__repr__',\n",
       " '__setattr__',\n",
       " '__sizeof__',\n",
       " '__str__',\n",
       " '__subclasshook__',\n",
       " 'allseg',\n",
       " 'arc3d',\n",
       " 'cell',\n",
       " 'children',\n",
       " 'connect',\n",
       " 'diam3d',\n",
       " 'has_membrane',\n",
       " 'hname',\n",
       " 'hoc_internal_name',\n",
       " 'insert',\n",
       " 'is_pysec',\n",
       " 'n3d',\n",
       " 'name',\n",
       " 'nseg',\n",
       " 'orientation',\n",
       " 'parentseg',\n",
       " 'psection',\n",
       " 'pt3dadd',\n",
       " 'pt3dchange',\n",
       " 'pt3dclear',\n",
       " 'pt3dinsert',\n",
       " 'pt3dremove',\n",
       " 'pt3dstyle',\n",
       " 'push',\n",
       " 'rallbranch',\n",
       " 'same',\n",
       " 'spine3d',\n",
       " 'subtree',\n",
       " 'trueparentseg',\n",
       " 'uninsert',\n",
       " 'wholetree',\n",
       " 'x3d',\n",
       " 'y3d',\n",
       " 'z3d']"
      ]
     },
     "execution_count": 12,
     "metadata": {},
     "output_type": "execute_result"
    }
   ],
   "source": [
    "dir(soma)"
   ]
  },
  {
   "cell_type": "markdown",
   "metadata": {},
   "source": [
    "This tells us all of the Python methods and variables associated with the object. Any methods with two leading and trailing underscores are reserved by Python. The other items in the list are additional members of soma that we can call. To see all of the functions, variables, etc available through NEURON's <tt>h</tt> submodule, try:"
   ]
  },
  {
   "cell_type": "code",
   "execution_count": 13,
   "metadata": {},
   "outputs": [
    {
     "name": "stdout",
     "output_type": "stream",
     "text": [
      "APCount, AlphaSynapse, BBSaveState, CVode, DEG, Deck, E, Exp2Syn,\n",
      "ExpSyn, FARADAY, FInitializeHandler, File, GAMMA, GUIMath, Glyph,\n",
      "Graph, HBox, IClamp, Impedance, IntFire1, IntFire2, IntFire4, KSChan,\n",
      "KSGate, KSState, KSTrans, L, LinearMechanism, List, Matrix,\n",
      "MechanismStandard, MechanismType, NetCon, NetStim, OClamp, PHI, PI,\n",
      "PPShape, PWManager, ParallelContext, PatternStim, PlotShape,\n",
      "PointProcessMark, Pointer, PtrVector, PythonObject, R, Ra, Random,\n",
      "RangeVarPlot, SEClamp, SaveState, Section, SectionBrowser,\n",
      "SectionList, SectionRef, Shape, SingleChan, StateTransitionEvent,\n",
      "StringFunctions, SymChooser, TQueue, TextEditor, Timer, VBox, VClamp,\n",
      "ValueFieldEditor, Vector, __abs__, __add__, __bool__, __call__,\n",
      "__class__, __delattr__, __delitem__, __dir__, __doc__, __eq__,\n",
      "__format__, __ge__, __getattribute__, __getitem__, __gt__, __hash__,\n",
      "__init__, __init_subclass__, __iter__, __le__, __len__, __lt__,\n",
      "__module__, __mul__, __ne__, __neg__, __new__, __next__, __pos__,\n",
      "__radd__, __reduce__, __reduce_ex__, __repr__, __rmul__, __rsub__,\n",
      "__rtruediv__, __setattr__, __setitem__, __setstate__, __sizeof__,\n",
      "__str__, __sub__, __subclasshook__, __truediv__, _pysec, abs, access,\n",
      "allobjects, allobjectvars, allsec, arc3d, area, argtype, atan, atan2,\n",
      "attr_praxis, axis, baseattr, batch_run, batch_save, begintemplate,\n",
      "boolean_dialog, break, capacitance, cas, celsius, chdir, checkpoint,\n",
      "clamp_resist, cm, connect, continue, continue_dialog,\n",
      "coredump_on_error, cos, create, debug, default_dll_loaded_,\n",
      "define_shape, delete, delete_section, depvar, diam, diam3d,\n",
      "diam_changed, dik_dv_, dina_dv_, disconnect, distance, doEvents,\n",
      "doNotify, double, dt, e_extracellular, e_fastpas, e_pas, ek, el_hh,\n",
      "else, em, ena, endtemplate, eps_IntFire4, eqinit, eqn, erf, erfc,\n",
      "execerror, execute, execute1, exp, external, extracellular, fadvance,\n",
      "fastpas, fclamp, fclampi, fclampv, fcurrent, finitialize, fit_praxis,\n",
      "float_epsilon, fmatrix, fmenu, for, forall, forsec, fprint,\n",
      "frecord_init, fscan, fstim, fstimi, fsyn, fsyng, fsyni, func,\n",
      "g_fastpas, g_pas, getSpineArea, getcwd, getstr, ghk, gk_hh, gkbar_hh,\n",
      "gl_hh, gna_hh, gnabar_hh, graph, graphmode, h_hh, help, hh, hinf_hh,\n",
      "hname, hoc_ac_, hoc_cross_x_, hoc_cross_y_, hoc_obj_, hoc_pointer_,\n",
      "hoc_stdout, hocobjptr, htau_hh, i_cap, i_membrane, i_membrane_, i_pas,\n",
      "ib_IntFire4, if, ifsec, ik, il_hh, ina, initnrn, insert,\n",
      "install_vector_fitness, int, ion_charge, ion_register, ion_style,\n",
      "ismembrane, issection, iterator, iterator_statement, ivoc_style,\n",
      "k_ion, keep_nseg_parm, ki, ki0_k_ion, ko, ko0_k_ion, load_file,\n",
      "load_func, load_java, load_proc, load_template, local, localobj, log,\n",
      "log10, lw, m_hh, machine_name, make_mechanism, make_pointprocess,\n",
      "mcell_ran4, mcell_ran4_init, minf_hh, morphology, mtau_hh, n3d, n_hh,\n",
      "na_ion, nai, nai0_na_ion, name_declared, nao, nao0_na_ion, nernst,\n",
      "neuronhome, new, ninf_hh, node_data, nrn_feenableexcept, nrn_load_dll,\n",
      "nrn_mallinfo, nrn_netrec_state_adjust, nrn_shape_changed_,\n",
      "nrnallpointmenu, nrnallsectionmenu, nrnglobalmechmenu,\n",
      "nrniv_bind_thread, nrnmechmenu, nrnmpi_init, nrnpointmenu, nrnpython,\n",
      "nrnsecmenu, nrnversion, nseg, ntau_hh, numarg, obfunc, object_id,\n",
      "object_pop, object_push, object_pushed, objectvar, objref, parallel,\n",
      "parent_connection, parent_node, parent_section, pas, plot, plotx,\n",
      "ploty, plt, pop_section, print, print_session, printf, prmat, proc,\n",
      "prstim, psection, pt3dadd, pt3dchange, pt3dclear, pt3dconst,\n",
      "pt3dinsert, pt3dremove, pt3dstyle, public, push_section, pval_praxis,\n",
      "pwman_place, quit, rallbranch, rates_hh, read, ref, regraph,\n",
      "retrieveaudit, return, ri, ropen, same, save_session, saveaudit,\n",
      "secname, secondorder, section_exists, section_orientation,\n",
      "section_owner, sectionname, setSpineArea, setcolor, setdata_feature,\n",
      "setdata_hh, setdata_pas, setpointer, show_errmess_always, show_winio,\n",
      "sin, solve, spine3d, sprint, sqrt, sred, sscanf, startsw, stop,\n",
      "stop_praxis, stoprun, stopsw, strcmp, strdef, string_dialog, symbols,\n",
      "system, t, tanh, taueps_IntFire4, this_node, this_section, topology,\n",
      "uninsert, units, unix_mac_pc, use_mcell_ran4, usetable_hh, v,\n",
      "variable_domain, vext, vtrap_hh, while, wopen, x3d, xbutton, xc,\n",
      "xcheckbox, xfixedvalue, xg, xlabel, xmenu, xopen, xopen_broadcast_,\n",
      "xpanel, xpvalue, xradiobutton, xraxial, xred, xslider, xstatebutton,\n",
      "xvalue, xvarlabel, y3d, z3d\n"
     ]
    }
   ],
   "source": [
    "import textwrap\n",
    "print(textwrap.fill(', '.join(dir(h))))"
   ]
  },
  {
   "cell_type": "markdown",
   "metadata": {},
   "source": [
    "(The <tt>', '.join(...)</tt> tells Python to build a string out of the list returned by <tt>dir</tt> where the items are separated from each other with a comma and a space. The <tt>textwrap.fill(...)</tt> tells Python to split long lines into multiple lines, by default a maximum of 70 characters long.)"
   ]
  },
  {
   "cell_type": "markdown",
   "metadata": {},
   "source": [
    "<h3>Aside 4: Getting more help</h3>"
   ]
  },
  {
   "cell_type": "markdown",
   "metadata": {},
   "source": [
    "In addition to probing objects with <a class=\"reference external\" href=\"https://docs.python.org/3/library/functions.html#dir\" title=\"(in Python v3.6)\"><code class=\"xref py py-func docutils literal\"><span class=\"pre\">dir()</span></code></a>, help from docstrings is available using <a class=\"reference external\" href=\"https://docs.python.org/3/library/functions.html#help\" title=\"(in Python v3.6)\"><code class=\"xref py py-func docutils literal\"><span class=\"pre\">help()</span></code></a>."
   ]
  },
  {
   "cell_type": "markdown",
   "metadata": {},
   "source": [
    "For example, from <tt>dir(soma)</tt> above, we know that there is a <tt>connect</tt> method available. Let's inquire about that:"
   ]
  },
  {
   "cell_type": "code",
   "execution_count": 14,
   "metadata": {},
   "outputs": [
    {
     "name": "stdout",
     "output_type": "stream",
     "text": [
      "Help on built-in function connect:\n",
      "\n",
      "connect(...) method of nrn.Section instance\n",
      "    childSection.connect(parentSection, [parentX], [childEnd]) or\n",
      "    childSection.connect(parentSegment, [childEnd])\n",
      "\n"
     ]
    }
   ],
   "source": [
    "help(soma.connect)"
   ]
  },
  {
   "cell_type": "markdown",
   "metadata": {},
   "source": [
    "When running interactively in Jupyter, the same information is available in a window that can be popped out by prefacing the method/function/etc with a question mark; e.g."
   ]
  },
  {
   "cell_type": "code",
   "execution_count": 15,
   "metadata": {},
   "outputs": [],
   "source": [
    "?soma.connect"
   ]
  },
  {
   "cell_type": "markdown",
   "metadata": {},
   "source": [
    "<h3>Biophysical mechanisms</h3>"
   ]
  },
  {
   "cell_type": "markdown",
   "metadata": {},
   "source": [
    "NEURON comes with a few built in biophysical mechanisms that can be added to a model:"
   ]
  },
  {
   "cell_type": "markdown",
   "metadata": {},
   "source": [
    "<table border=\"1\" class=\"docutils\">\n",
    "<colgroup>\n",
    "<col width=\"26%\" />\n",
    "<col width=\"74%\"  />\n",
    "</colgroup>\n",
    "<tbody valign=\"top\">\n",
    "<tr class=\"row-odd\"><td><tt>pas</tt></td>\n",
    "<td>Passive (“leak”) channel.</td>\n",
    "</tr>\n",
    "<tr class=\"row-even\"><td><tt>extracellular</tt></td>\n",
    "<td>For simulating effects of nonzero extracellular\n",
    "potential, as may happen with leaky patch clamps,\n",
    "or detailed propertes of the myelin sheath.</td>\n",
    "</tr>\n",
    "<tr class=\"row-odd\"><td><tt>hh</tt></td>\n",
    "<td>Hodgkin-Huxley sodium, potassium, and leakage channels.</td>\n",
    "</tr>\n",
    "</tbody>\n",
    "</table>"
   ]
  },
  {
   "cell_type": "markdown",
   "metadata": {},
   "source": [
    "Thousands of additional mechanisms (for A-currents, etc) are available as MOD files as part of published model codes on <a href=\"http://modeldb.yale.edu\">ModelDB</a>."
   ]
  },
  {
   "cell_type": "markdown",
   "metadata": {},
   "source": [
    "<h2>Step 4: Insert ion channels</h2>"
   ]
  },
  {
   "cell_type": "markdown",
   "metadata": {},
   "source": [
    "A section's <tt>insert</tt> method is used to insert density mechanisms (i.e. anything where we don't want to specify every single instance separately). Let's insert Hodgkin-Huxley channels into the <tt>soma</tt>'s membrane. We do this by passing 'hh' as the mechanism type:"
   ]
  },
  {
   "cell_type": "code",
   "execution_count": 16,
   "metadata": {},
   "outputs": [
    {
     "data": {
      "text/plain": [
       "soma"
      ]
     },
     "execution_count": 16,
     "metadata": {},
     "output_type": "execute_result"
    }
   ],
   "source": [
    "soma.insert('hh')"
   ]
  },
  {
   "cell_type": "markdown",
   "metadata": {},
   "source": [
    "The section is returned so that multiple insertions can be chained together if desired."
   ]
  },
  {
   "cell_type": "markdown",
   "metadata": {},
   "source": [
    "We note that Hodgkin-Huxley channel kinetics are based on the squid giant axon. If that's not your model organism, then for your actual modeling projects, you'll want to use other kinetics, either by downloading them from online resources like <a href=\"http://modeldb.yale.edu\">ModelDB</a> or by writing them yourself in NMODL or NeuroML."
   ]
  },
  {
   "cell_type": "markdown",
   "metadata": {},
   "source": [
    "<h3>Aside 5: Sections and segments</h3>"
   ]
  },
  {
   "cell_type": "markdown",
   "metadata": {},
   "source": [
    "A NEURON Section is considered a piece of cable. Depending on the resolution desired, it may be necessary to divide the cable into a number of segments where voltage varies linearly between centers of adjacent segments. The number of segments within a section is given by the variable, `nseg`. The total ionic current across the segment membrane is approximately the area of the segment multiplied by the ionic current density at the center of the segment. To access a part of the section, specify a value between 0 and 1, where 0 is typically the end closest to the soma and 1 is the distal end. Because nseg divides the cable into equal-length parts, it should be an odd number so that to address the middle of the cable, (0.5), gives the middle segment."
   ]
  },
  {
   "cell_type": "markdown",
   "metadata": {},
   "source": [
    "To summarize, we access sections by their name and segments by some location on the section.\n",
    "\n",
    "* Section: ``section``\n",
    "* Segment: ``section(loc)``"
   ]
  },
  {
   "cell_type": "markdown",
   "metadata": {},
   "source": [
    "Using the Python `type` function can tell us what a variable is:"
   ]
  },
  {
   "cell_type": "code",
   "execution_count": 17,
   "metadata": {},
   "outputs": [
    {
     "name": "stdout",
     "output_type": "stream",
     "text": [
      "type(soma) = <class 'nrn.Section'>\n",
      "type(soma(0.5)) = <class 'nrn.Segment'>\n"
     ]
    }
   ],
   "source": [
    "print(\"type(soma) = {}\".format(type(soma)))\n",
    "print(\"type(soma(0.5)) = {}\".format(type(soma(0.5))))"
   ]
  },
  {
   "cell_type": "markdown",
   "metadata": {},
   "source": [
    "<h3>Aside 6: Accessing segment variables</h3>"
   ]
  },
  {
   "cell_type": "markdown",
   "metadata": {},
   "source": [
    "Segment variables follow the idiom:\n",
    "\n",
    "    section(loc).var\n",
    "\n",
    "And for mechanisms on the segment:\n",
    "\n",
    "    section(loc).mech.var\n",
    "\n",
    "or\n",
    "\n",
    "    section(loc).var_mech\n",
    "\n",
    "The first form is preferred."
   ]
  },
  {
   "cell_type": "code",
   "execution_count": 18,
   "metadata": {},
   "outputs": [
    {
     "name": "stdout",
     "output_type": "stream",
     "text": [
      "['__class__', '__delattr__', '__dir__', '__doc__', '__eq__', '__format__', '__ge__', '__getattribute__', '__gt__', '__hash__', '__init__', '__init_subclass__', '__le__', '__lt__', '__module__', '__ne__', '__new__', '__next__', '__reduce__', '__reduce_ex__', '__repr__', '__setattr__', '__sizeof__', '__str__', '__subclasshook__', 'el', 'gk', 'gkbar', 'gl', 'gna', 'gnabar', 'h', 'il', 'is_ion', 'm', 'n', 'name']\n"
     ]
    }
   ],
   "source": [
    "mech = soma(0.5).hh\n",
    "print(dir(mech))"
   ]
  },
  {
   "cell_type": "code",
   "execution_count": 19,
   "metadata": {},
   "outputs": [
    {
     "name": "stdout",
     "output_type": "stream",
     "text": [
      "0.036\n",
      "0.036\n"
     ]
    }
   ],
   "source": [
    "print(mech.gkbar)\n",
    "print(soma(0.5).hh.gkbar)"
   ]
  },
  {
   "cell_type": "markdown",
   "metadata": {},
   "source": [
    "<h2>Step 5: Insert a stimulus</h2>"
   ]
  },
  {
   "cell_type": "markdown",
   "metadata": {},
   "source": [
    "Let's insert a current clamp (an <a class=\"reference external\" href=\"https://neuron.yale.edu/neuron/static/py_doc/modelspec/programmatic/mechanisms/mech.html#IClamp\" title=\"(in NEURON v7.5)\"><code class=\"xref py py-class docutils literal\"><span class=\"pre\">IClamp</span></code></a> object) into the center of the soma to induce some membrane dynamics."
   ]
  },
  {
   "cell_type": "code",
   "execution_count": 20,
   "metadata": {},
   "outputs": [],
   "source": [
    "iclamp = h.IClamp(soma(0.5))"
   ]
  },
  {
   "cell_type": "markdown",
   "metadata": {},
   "source": [
    "An <tt>IClamp</tt> is a Point Process. Point processes are point sources of current. When making a new PointProcess, you pass the segment to which it will bind.\n",
    "\n",
    "Again, with the <tt>dir</tt> function, we can validate that <tt>iclamp</tt> is an object and contains some useful parameters. Let's look at some of those parameters. We use a <a href=\"https://www.pythonforbeginners.com/basics/list-comprehensions-in-python\">list comprehension</a> to ignore those elements of the <tt>dir</tt> that start with double underscores (and are thus Python magic methods and <i>not</i> functions/variables intended to be used directly). "
   ]
  },
  {
   "cell_type": "code",
   "execution_count": 21,
   "metadata": {},
   "outputs": [
    {
     "name": "stdout",
     "output_type": "stream",
     "text": [
      "['amp', 'baseattr', 'delay', 'dur', 'get_loc', 'get_segment', 'has_loc', 'hname', 'hocobjptr', 'i', 'loc', 'same']\n"
     ]
    }
   ],
   "source": [
    "print([item for item in dir(iclamp) if not item.startswith('__')])"
   ]
  },
  {
   "cell_type": "markdown",
   "metadata": {},
   "source": [
    "In particular, we notice three key properties of a current clamp: <tt>amp</tt> -- the amplitude (in nA), <tt>delay</tt> -- the time the current clamp switches on (in ms), and <tt>dur</tt> -- how long (in ms) the current clamp stays on. Let's set these values:"
   ]
  },
  {
   "cell_type": "code",
   "execution_count": 22,
   "metadata": {},
   "outputs": [],
   "source": [
    "iclamp.delay = 2\n",
    "iclamp.dur = 0.1\n",
    "iclamp.amp = 0.9"
   ]
  },
  {
   "cell_type": "markdown",
   "metadata": {},
   "source": [
    "Let's use <tt>psection</tt> to get a representation of the soma model:"
   ]
  },
  {
   "cell_type": "code",
   "execution_count": 23,
   "metadata": {},
   "outputs": [
    {
     "data": {
      "text/plain": [
       "{'point_processes': {'IClamp': {IClamp[0]}},\n",
       " 'density_mechs': {'hh': {'gnabar': [0.12],\n",
       "   'gkbar': [0.036],\n",
       "   'gl': [0.0003],\n",
       "   'el': [-54.3],\n",
       "   'gna': [0.0],\n",
       "   'gk': [0.0],\n",
       "   'il': [0.0],\n",
       "   'm': [0.0],\n",
       "   'h': [0.0],\n",
       "   'n': [0.0]}},\n",
       " 'ions': {'na': {'ena': [50.0],\n",
       "   'nai': [10.0],\n",
       "   'nao': [140.0],\n",
       "   'ina': [0.0],\n",
       "   'dina_dv_': [0.0]},\n",
       "  'k': {'ek': [-77.0],\n",
       "   'ki': [54.4],\n",
       "   'ko': [2.5],\n",
       "   'ik': [0.0],\n",
       "   'dik_dv_': [0.0]}},\n",
       " 'morphology': {'L': 20.0,\n",
       "  'diam': [20.0],\n",
       "  'pts3d': [],\n",
       "  'parent': None,\n",
       "  'trueparent': None},\n",
       " 'nseg': 1,\n",
       " 'Ra': 35.4,\n",
       " 'cm': [1.0],\n",
       " 'regions': set(),\n",
       " 'species': set(),\n",
       " 'name': 'soma',\n",
       " 'hoc_internal_name': '__nrnsec_0x1041ef000',\n",
       " 'cell': None}"
      ]
     },
     "execution_count": 23,
     "metadata": {},
     "output_type": "execute_result"
    }
   ],
   "source": [
    "soma.psection()"
   ]
  },
  {
   "cell_type": "markdown",
   "metadata": {},
   "source": [
    "<h2>Step 6: Set up recording variables</h2>"
   ]
  },
  {
   "cell_type": "markdown",
   "metadata": {},
   "source": [
    "The cell should be configured to run a simulation. However, we need to indicate which variables we wish to record; these will be stored in a NEURON Vector (<tt>h.Vector</tt> object). For now, we will record the membrane potential, which is <tt>soma(0.5).v</tt> and the corresponding time points (<tt>h.t</tt>). References to variables are available by preceding the last part of the variable name with a `_ref_`"
   ]
  },
  {
   "cell_type": "code",
   "execution_count": 24,
   "metadata": {},
   "outputs": [],
   "source": [
    "v = h.Vector().record(soma(0.5)._ref_v)             # Membrane potential vector\n",
    "t = h.Vector().record(h._ref_t)                     # Time stamp vector\n"
   ]
  },
  {
   "cell_type": "markdown",
   "metadata": {},
   "source": [
    "<h2>Step 7: Run the simulation</h2>"
   ]
  },
  {
   "cell_type": "markdown",
   "metadata": {},
   "source": [
    "By default, the NEURON <tt>h</tt> module provides the low level <a href=\"https://www.neuron.yale.edu/neuron/static/py_doc/simctrl/programmatic.html#fadvance\"><tt>fadvance</tt></a> function for advancing one time step. For higher-level simulation control specification, we load NEURON's <tt>stdrun</tt> library:"
   ]
  },
  {
   "cell_type": "code",
   "execution_count": 25,
   "metadata": {},
   "outputs": [
    {
     "data": {
      "text/plain": [
       "1.0"
      ]
     },
     "execution_count": 25,
     "metadata": {},
     "output_type": "execute_result"
    }
   ],
   "source": [
    "h.load_file('stdrun.hoc')"
   ]
  },
  {
   "cell_type": "markdown",
   "metadata": {},
   "source": [
    "We can then initialize our simulation such that our cell has a resting membrane potential of -70 mV:"
   ]
  },
  {
   "cell_type": "code",
   "execution_count": 26,
   "metadata": {},
   "outputs": [
    {
     "data": {
      "text/plain": [
       "1.0"
      ]
     },
     "execution_count": 26,
     "metadata": {},
     "output_type": "execute_result"
    }
   ],
   "source": [
    "h.finitialize(-70 * mV)"
   ]
  },
  {
   "cell_type": "markdown",
   "metadata": {},
   "source": [
    "And now continue the simulation from the current time (0) until 40 ms:"
   ]
  },
  {
   "cell_type": "code",
   "execution_count": 27,
   "metadata": {},
   "outputs": [
    {
     "data": {
      "text/plain": [
       "0.0"
      ]
     },
     "execution_count": 27,
     "metadata": {},
     "output_type": "execute_result"
    }
   ],
   "source": [
    "h.continuerun(40 * ms)"
   ]
  },
  {
   "cell_type": "markdown",
   "metadata": {},
   "source": [
    "(For those who are interested: we initialized to a resting membrane potential of -70 mV because that's the default reversal potential for the <tt>pas</tt> leak channel, the only channel inserted in this model.)"
   ]
  },
  {
   "cell_type": "markdown",
   "metadata": {},
   "source": [
    "(Strictly speaking, we didn't need to specify the units here -- recall they were defined above in the <tt>from neuron.units import ms, mV</tt> -- as they are the defaults assumed by NEURON, but it is good practice to be explicitly clear.)"
   ]
  },
  {
   "cell_type": "markdown",
   "metadata": {},
   "source": [
    "<h2>Step 8: Plot the results</h2>"
   ]
  },
  {
   "cell_type": "markdown",
   "metadata": {},
   "source": [
    "<h3>Using <tt>bokeh</tt></h3><p>When working in Jupyter with an active internet connection, it is often convenient to use the <tt>bokeh</tt> module for plotting, as it provides interactive graphs that can be panned, zoomed, and saved from the Jupyter notebook.</p>"
   ]
  },
  {
   "cell_type": "markdown",
   "metadata": {},
   "source": [
    "Let's load <tt>bokeh</tt> and tell it to output to the Jupyter notebook:"
   ]
  },
  {
   "cell_type": "code",
   "execution_count": 28,
   "metadata": {},
   "outputs": [
    {
     "data": {
      "text/html": [
       "\n",
       "    <div class=\"bk-root\">\n",
       "        <a href=\"https://bokeh.pydata.org\" target=\"_blank\" class=\"bk-logo bk-logo-small bk-logo-notebook\"></a>\n",
       "        <span id=\"1001\">Loading BokehJS ...</span>\n",
       "    </div>"
      ]
     },
     "metadata": {},
     "output_type": "display_data"
    },
    {
     "data": {
      "application/javascript": [
       "\n",
       "(function(root) {\n",
       "  function now() {\n",
       "    return new Date();\n",
       "  }\n",
       "\n",
       "  var force = true;\n",
       "\n",
       "  if (typeof root._bokeh_onload_callbacks === \"undefined\" || force === true) {\n",
       "    root._bokeh_onload_callbacks = [];\n",
       "    root._bokeh_is_loading = undefined;\n",
       "  }\n",
       "\n",
       "  var JS_MIME_TYPE = 'application/javascript';\n",
       "  var HTML_MIME_TYPE = 'text/html';\n",
       "  var EXEC_MIME_TYPE = 'application/vnd.bokehjs_exec.v0+json';\n",
       "  var CLASS_NAME = 'output_bokeh rendered_html';\n",
       "\n",
       "  /**\n",
       "   * Render data to the DOM node\n",
       "   */\n",
       "  function render(props, node) {\n",
       "    var script = document.createElement(\"script\");\n",
       "    node.appendChild(script);\n",
       "  }\n",
       "\n",
       "  /**\n",
       "   * Handle when an output is cleared or removed\n",
       "   */\n",
       "  function handleClearOutput(event, handle) {\n",
       "    var cell = handle.cell;\n",
       "\n",
       "    var id = cell.output_area._bokeh_element_id;\n",
       "    var server_id = cell.output_area._bokeh_server_id;\n",
       "    // Clean up Bokeh references\n",
       "    if (id != null && id in Bokeh.index) {\n",
       "      Bokeh.index[id].model.document.clear();\n",
       "      delete Bokeh.index[id];\n",
       "    }\n",
       "\n",
       "    if (server_id !== undefined) {\n",
       "      // Clean up Bokeh references\n",
       "      var cmd = \"from bokeh.io.state import curstate; print(curstate().uuid_to_server['\" + server_id + \"'].get_sessions()[0].document.roots[0]._id)\";\n",
       "      cell.notebook.kernel.execute(cmd, {\n",
       "        iopub: {\n",
       "          output: function(msg) {\n",
       "            var id = msg.content.text.trim();\n",
       "            if (id in Bokeh.index) {\n",
       "              Bokeh.index[id].model.document.clear();\n",
       "              delete Bokeh.index[id];\n",
       "            }\n",
       "          }\n",
       "        }\n",
       "      });\n",
       "      // Destroy server and session\n",
       "      var cmd = \"import bokeh.io.notebook as ion; ion.destroy_server('\" + server_id + \"')\";\n",
       "      cell.notebook.kernel.execute(cmd);\n",
       "    }\n",
       "  }\n",
       "\n",
       "  /**\n",
       "   * Handle when a new output is added\n",
       "   */\n",
       "  function handleAddOutput(event, handle) {\n",
       "    var output_area = handle.output_area;\n",
       "    var output = handle.output;\n",
       "\n",
       "    // limit handleAddOutput to display_data with EXEC_MIME_TYPE content only\n",
       "    if ((output.output_type != \"display_data\") || (!output.data.hasOwnProperty(EXEC_MIME_TYPE))) {\n",
       "      return\n",
       "    }\n",
       "\n",
       "    var toinsert = output_area.element.find(\".\" + CLASS_NAME.split(' ')[0]);\n",
       "\n",
       "    if (output.metadata[EXEC_MIME_TYPE][\"id\"] !== undefined) {\n",
       "      toinsert[toinsert.length - 1].firstChild.textContent = output.data[JS_MIME_TYPE];\n",
       "      // store reference to embed id on output_area\n",
       "      output_area._bokeh_element_id = output.metadata[EXEC_MIME_TYPE][\"id\"];\n",
       "    }\n",
       "    if (output.metadata[EXEC_MIME_TYPE][\"server_id\"] !== undefined) {\n",
       "      var bk_div = document.createElement(\"div\");\n",
       "      bk_div.innerHTML = output.data[HTML_MIME_TYPE];\n",
       "      var script_attrs = bk_div.children[0].attributes;\n",
       "      for (var i = 0; i < script_attrs.length; i++) {\n",
       "        toinsert[toinsert.length - 1].firstChild.setAttribute(script_attrs[i].name, script_attrs[i].value);\n",
       "      }\n",
       "      // store reference to server id on output_area\n",
       "      output_area._bokeh_server_id = output.metadata[EXEC_MIME_TYPE][\"server_id\"];\n",
       "    }\n",
       "  }\n",
       "\n",
       "  function register_renderer(events, OutputArea) {\n",
       "\n",
       "    function append_mime(data, metadata, element) {\n",
       "      // create a DOM node to render to\n",
       "      var toinsert = this.create_output_subarea(\n",
       "        metadata,\n",
       "        CLASS_NAME,\n",
       "        EXEC_MIME_TYPE\n",
       "      );\n",
       "      this.keyboard_manager.register_events(toinsert);\n",
       "      // Render to node\n",
       "      var props = {data: data, metadata: metadata[EXEC_MIME_TYPE]};\n",
       "      render(props, toinsert[toinsert.length - 1]);\n",
       "      element.append(toinsert);\n",
       "      return toinsert\n",
       "    }\n",
       "\n",
       "    /* Handle when an output is cleared or removed */\n",
       "    events.on('clear_output.CodeCell', handleClearOutput);\n",
       "    events.on('delete.Cell', handleClearOutput);\n",
       "\n",
       "    /* Handle when a new output is added */\n",
       "    events.on('output_added.OutputArea', handleAddOutput);\n",
       "\n",
       "    /**\n",
       "     * Register the mime type and append_mime function with output_area\n",
       "     */\n",
       "    OutputArea.prototype.register_mime_type(EXEC_MIME_TYPE, append_mime, {\n",
       "      /* Is output safe? */\n",
       "      safe: true,\n",
       "      /* Index of renderer in `output_area.display_order` */\n",
       "      index: 0\n",
       "    });\n",
       "  }\n",
       "\n",
       "  // register the mime type if in Jupyter Notebook environment and previously unregistered\n",
       "  if (root.Jupyter !== undefined) {\n",
       "    var events = require('base/js/events');\n",
       "    var OutputArea = require('notebook/js/outputarea').OutputArea;\n",
       "\n",
       "    if (OutputArea.prototype.mime_types().indexOf(EXEC_MIME_TYPE) == -1) {\n",
       "      register_renderer(events, OutputArea);\n",
       "    }\n",
       "  }\n",
       "\n",
       "  \n",
       "  if (typeof (root._bokeh_timeout) === \"undefined\" || force === true) {\n",
       "    root._bokeh_timeout = Date.now() + 5000;\n",
       "    root._bokeh_failed_load = false;\n",
       "  }\n",
       "\n",
       "  var NB_LOAD_WARNING = {'data': {'text/html':\n",
       "     \"<div style='background-color: #fdd'>\\n\"+\n",
       "     \"<p>\\n\"+\n",
       "     \"BokehJS does not appear to have successfully loaded. If loading BokehJS from CDN, this \\n\"+\n",
       "     \"may be due to a slow or bad network connection. Possible fixes:\\n\"+\n",
       "     \"</p>\\n\"+\n",
       "     \"<ul>\\n\"+\n",
       "     \"<li>re-rerun `output_notebook()` to attempt to load from CDN again, or</li>\\n\"+\n",
       "     \"<li>use INLINE resources instead, as so:</li>\\n\"+\n",
       "     \"</ul>\\n\"+\n",
       "     \"<code>\\n\"+\n",
       "     \"from bokeh.resources import INLINE\\n\"+\n",
       "     \"output_notebook(resources=INLINE)\\n\"+\n",
       "     \"</code>\\n\"+\n",
       "     \"</div>\"}};\n",
       "\n",
       "  function display_loaded() {\n",
       "    var el = document.getElementById(\"1001\");\n",
       "    if (el != null) {\n",
       "      el.textContent = \"BokehJS is loading...\";\n",
       "    }\n",
       "    if (root.Bokeh !== undefined) {\n",
       "      if (el != null) {\n",
       "        el.textContent = \"BokehJS \" + root.Bokeh.version + \" successfully loaded.\";\n",
       "      }\n",
       "    } else if (Date.now() < root._bokeh_timeout) {\n",
       "      setTimeout(display_loaded, 100)\n",
       "    }\n",
       "  }\n",
       "\n",
       "\n",
       "  function run_callbacks() {\n",
       "    try {\n",
       "      root._bokeh_onload_callbacks.forEach(function(callback) {\n",
       "        if (callback != null)\n",
       "          callback();\n",
       "      });\n",
       "    } finally {\n",
       "      delete root._bokeh_onload_callbacks\n",
       "    }\n",
       "    console.debug(\"Bokeh: all callbacks have finished\");\n",
       "  }\n",
       "\n",
       "  function load_libs(css_urls, js_urls, callback) {\n",
       "    if (css_urls == null) css_urls = [];\n",
       "    if (js_urls == null) js_urls = [];\n",
       "\n",
       "    root._bokeh_onload_callbacks.push(callback);\n",
       "    if (root._bokeh_is_loading > 0) {\n",
       "      console.debug(\"Bokeh: BokehJS is being loaded, scheduling callback at\", now());\n",
       "      return null;\n",
       "    }\n",
       "    if (js_urls == null || js_urls.length === 0) {\n",
       "      run_callbacks();\n",
       "      return null;\n",
       "    }\n",
       "    console.debug(\"Bokeh: BokehJS not loaded, scheduling load and callback at\", now());\n",
       "    root._bokeh_is_loading = css_urls.length + js_urls.length;\n",
       "\n",
       "    function on_load() {\n",
       "      root._bokeh_is_loading--;\n",
       "      if (root._bokeh_is_loading === 0) {\n",
       "        console.debug(\"Bokeh: all BokehJS libraries/stylesheets loaded\");\n",
       "        run_callbacks()\n",
       "      }\n",
       "    }\n",
       "\n",
       "    function on_error() {\n",
       "      console.error(\"failed to load \" + url);\n",
       "    }\n",
       "\n",
       "    for (var i = 0; i < css_urls.length; i++) {\n",
       "      var url = css_urls[i];\n",
       "      const element = document.createElement(\"link\");\n",
       "      element.onload = on_load;\n",
       "      element.onerror = on_error;\n",
       "      element.rel = \"stylesheet\";\n",
       "      element.type = \"text/css\";\n",
       "      element.href = url;\n",
       "      console.debug(\"Bokeh: injecting link tag for BokehJS stylesheet: \", url);\n",
       "      document.body.appendChild(element);\n",
       "    }\n",
       "\n",
       "    for (var i = 0; i < js_urls.length; i++) {\n",
       "      var url = js_urls[i];\n",
       "      var element = document.createElement('script');\n",
       "      element.onload = on_load;\n",
       "      element.onerror = on_error;\n",
       "      element.async = false;\n",
       "      element.src = url;\n",
       "      console.debug(\"Bokeh: injecting script tag for BokehJS library: \", url);\n",
       "      document.head.appendChild(element);\n",
       "    }\n",
       "  };var element = document.getElementById(\"1001\");\n",
       "  if (element == null) {\n",
       "    console.error(\"Bokeh: ERROR: autoload.js configured with elementid '1001' but no matching script tag was found. \")\n",
       "    return false;\n",
       "  }\n",
       "\n",
       "  function inject_raw_css(css) {\n",
       "    const element = document.createElement(\"style\");\n",
       "    element.appendChild(document.createTextNode(css));\n",
       "    document.body.appendChild(element);\n",
       "  }\n",
       "\n",
       "  var js_urls = [\"https://cdn.pydata.org/bokeh/release/bokeh-1.2.0.min.js\", \"https://cdn.pydata.org/bokeh/release/bokeh-widgets-1.2.0.min.js\", \"https://cdn.pydata.org/bokeh/release/bokeh-tables-1.2.0.min.js\", \"https://cdn.pydata.org/bokeh/release/bokeh-gl-1.2.0.min.js\"];\n",
       "  var css_urls = [\"https://cdn.pydata.org/bokeh/release/bokeh-1.2.0.min.css\", \"https://cdn.pydata.org/bokeh/release/bokeh-widgets-1.2.0.min.css\", \"https://cdn.pydata.org/bokeh/release/bokeh-tables-1.2.0.min.css\"];\n",
       "\n",
       "  var inline_js = [\n",
       "    function(Bokeh) {\n",
       "      Bokeh.set_log_level(\"info\");\n",
       "    },\n",
       "    \n",
       "    function(Bokeh) {\n",
       "      \n",
       "    },\n",
       "    function(Bokeh) {} // ensure no trailing comma for IE\n",
       "  ];\n",
       "\n",
       "  function run_inline_js() {\n",
       "    \n",
       "    if ((root.Bokeh !== undefined) || (force === true)) {\n",
       "      for (var i = 0; i < inline_js.length; i++) {\n",
       "        inline_js[i].call(root, root.Bokeh);\n",
       "      }if (force === true) {\n",
       "        display_loaded();\n",
       "      }} else if (Date.now() < root._bokeh_timeout) {\n",
       "      setTimeout(run_inline_js, 100);\n",
       "    } else if (!root._bokeh_failed_load) {\n",
       "      console.log(\"Bokeh: BokehJS failed to load within specified timeout.\");\n",
       "      root._bokeh_failed_load = true;\n",
       "    } else if (force !== true) {\n",
       "      var cell = $(document.getElementById(\"1001\")).parents('.cell').data().cell;\n",
       "      cell.output_area.append_execute_result(NB_LOAD_WARNING)\n",
       "    }\n",
       "\n",
       "  }\n",
       "\n",
       "  if (root._bokeh_is_loading === 0) {\n",
       "    console.debug(\"Bokeh: BokehJS loaded, going straight to plotting\");\n",
       "    run_inline_js();\n",
       "  } else {\n",
       "    load_libs(css_urls, js_urls, function() {\n",
       "      console.debug(\"Bokeh: BokehJS plotting callback run at\", now());\n",
       "      run_inline_js();\n",
       "    });\n",
       "  }\n",
       "}(window));"
      ],
      "application/vnd.bokehjs_load.v0+json": "\n(function(root) {\n  function now() {\n    return new Date();\n  }\n\n  var force = true;\n\n  if (typeof root._bokeh_onload_callbacks === \"undefined\" || force === true) {\n    root._bokeh_onload_callbacks = [];\n    root._bokeh_is_loading = undefined;\n  }\n\n  \n\n  \n  if (typeof (root._bokeh_timeout) === \"undefined\" || force === true) {\n    root._bokeh_timeout = Date.now() + 5000;\n    root._bokeh_failed_load = false;\n  }\n\n  var NB_LOAD_WARNING = {'data': {'text/html':\n     \"<div style='background-color: #fdd'>\\n\"+\n     \"<p>\\n\"+\n     \"BokehJS does not appear to have successfully loaded. If loading BokehJS from CDN, this \\n\"+\n     \"may be due to a slow or bad network connection. Possible fixes:\\n\"+\n     \"</p>\\n\"+\n     \"<ul>\\n\"+\n     \"<li>re-rerun `output_notebook()` to attempt to load from CDN again, or</li>\\n\"+\n     \"<li>use INLINE resources instead, as so:</li>\\n\"+\n     \"</ul>\\n\"+\n     \"<code>\\n\"+\n     \"from bokeh.resources import INLINE\\n\"+\n     \"output_notebook(resources=INLINE)\\n\"+\n     \"</code>\\n\"+\n     \"</div>\"}};\n\n  function display_loaded() {\n    var el = document.getElementById(\"1001\");\n    if (el != null) {\n      el.textContent = \"BokehJS is loading...\";\n    }\n    if (root.Bokeh !== undefined) {\n      if (el != null) {\n        el.textContent = \"BokehJS \" + root.Bokeh.version + \" successfully loaded.\";\n      }\n    } else if (Date.now() < root._bokeh_timeout) {\n      setTimeout(display_loaded, 100)\n    }\n  }\n\n\n  function run_callbacks() {\n    try {\n      root._bokeh_onload_callbacks.forEach(function(callback) {\n        if (callback != null)\n          callback();\n      });\n    } finally {\n      delete root._bokeh_onload_callbacks\n    }\n    console.debug(\"Bokeh: all callbacks have finished\");\n  }\n\n  function load_libs(css_urls, js_urls, callback) {\n    if (css_urls == null) css_urls = [];\n    if (js_urls == null) js_urls = [];\n\n    root._bokeh_onload_callbacks.push(callback);\n    if (root._bokeh_is_loading > 0) {\n      console.debug(\"Bokeh: BokehJS is being loaded, scheduling callback at\", now());\n      return null;\n    }\n    if (js_urls == null || js_urls.length === 0) {\n      run_callbacks();\n      return null;\n    }\n    console.debug(\"Bokeh: BokehJS not loaded, scheduling load and callback at\", now());\n    root._bokeh_is_loading = css_urls.length + js_urls.length;\n\n    function on_load() {\n      root._bokeh_is_loading--;\n      if (root._bokeh_is_loading === 0) {\n        console.debug(\"Bokeh: all BokehJS libraries/stylesheets loaded\");\n        run_callbacks()\n      }\n    }\n\n    function on_error() {\n      console.error(\"failed to load \" + url);\n    }\n\n    for (var i = 0; i < css_urls.length; i++) {\n      var url = css_urls[i];\n      const element = document.createElement(\"link\");\n      element.onload = on_load;\n      element.onerror = on_error;\n      element.rel = \"stylesheet\";\n      element.type = \"text/css\";\n      element.href = url;\n      console.debug(\"Bokeh: injecting link tag for BokehJS stylesheet: \", url);\n      document.body.appendChild(element);\n    }\n\n    for (var i = 0; i < js_urls.length; i++) {\n      var url = js_urls[i];\n      var element = document.createElement('script');\n      element.onload = on_load;\n      element.onerror = on_error;\n      element.async = false;\n      element.src = url;\n      console.debug(\"Bokeh: injecting script tag for BokehJS library: \", url);\n      document.head.appendChild(element);\n    }\n  };var element = document.getElementById(\"1001\");\n  if (element == null) {\n    console.error(\"Bokeh: ERROR: autoload.js configured with elementid '1001' but no matching script tag was found. \")\n    return false;\n  }\n\n  function inject_raw_css(css) {\n    const element = document.createElement(\"style\");\n    element.appendChild(document.createTextNode(css));\n    document.body.appendChild(element);\n  }\n\n  var js_urls = [\"https://cdn.pydata.org/bokeh/release/bokeh-1.2.0.min.js\", \"https://cdn.pydata.org/bokeh/release/bokeh-widgets-1.2.0.min.js\", \"https://cdn.pydata.org/bokeh/release/bokeh-tables-1.2.0.min.js\", \"https://cdn.pydata.org/bokeh/release/bokeh-gl-1.2.0.min.js\"];\n  var css_urls = [\"https://cdn.pydata.org/bokeh/release/bokeh-1.2.0.min.css\", \"https://cdn.pydata.org/bokeh/release/bokeh-widgets-1.2.0.min.css\", \"https://cdn.pydata.org/bokeh/release/bokeh-tables-1.2.0.min.css\"];\n\n  var inline_js = [\n    function(Bokeh) {\n      Bokeh.set_log_level(\"info\");\n    },\n    \n    function(Bokeh) {\n      \n    },\n    function(Bokeh) {} // ensure no trailing comma for IE\n  ];\n\n  function run_inline_js() {\n    \n    if ((root.Bokeh !== undefined) || (force === true)) {\n      for (var i = 0; i < inline_js.length; i++) {\n        inline_js[i].call(root, root.Bokeh);\n      }if (force === true) {\n        display_loaded();\n      }} else if (Date.now() < root._bokeh_timeout) {\n      setTimeout(run_inline_js, 100);\n    } else if (!root._bokeh_failed_load) {\n      console.log(\"Bokeh: BokehJS failed to load within specified timeout.\");\n      root._bokeh_failed_load = true;\n    } else if (force !== true) {\n      var cell = $(document.getElementById(\"1001\")).parents('.cell').data().cell;\n      cell.output_area.append_execute_result(NB_LOAD_WARNING)\n    }\n\n  }\n\n  if (root._bokeh_is_loading === 0) {\n    console.debug(\"Bokeh: BokehJS loaded, going straight to plotting\");\n    run_inline_js();\n  } else {\n    load_libs(css_urls, js_urls, function() {\n      console.debug(\"Bokeh: BokehJS plotting callback run at\", now());\n      run_inline_js();\n    });\n  }\n}(window));"
     },
     "metadata": {},
     "output_type": "display_data"
    }
   ],
   "source": [
    "from bokeh.io import output_notebook\n",
    "import bokeh.plotting as plt\n",
    "output_notebook()"
   ]
  },
  {
   "cell_type": "markdown",
   "metadata": {},
   "source": [
    "Now we plot membrane potential vs time."
   ]
  },
  {
   "cell_type": "code",
   "execution_count": 29,
   "metadata": {},
   "outputs": [
    {
     "data": {
      "text/html": [
       "\n",
       "\n",
       "\n",
       "\n",
       "\n",
       "\n",
       "  <div class=\"bk-root\" id=\"387b0a28-1918-4996-a45a-51447608b90d\" data-root-id=\"1002\"></div>\n"
      ]
     },
     "metadata": {},
     "output_type": "display_data"
    },
    {
     "data": {
      "application/javascript": [
       "(function(root) {\n",
       "  function embed_document(root) {\n",
       "    \n",
       "  var docs_json = {\"73a236d0-42a8-459c-a462-9b46e17c4a68\":{\"roots\":{\"references\":[{\"attributes\":{\"below\":[{\"id\":\"1011\",\"type\":\"LinearAxis\"}],\"center\":[{\"id\":\"1015\",\"type\":\"Grid\"},{\"id\":\"1020\",\"type\":\"Grid\"}],\"left\":[{\"id\":\"1016\",\"type\":\"LinearAxis\"}],\"renderers\":[{\"id\":\"1037\",\"type\":\"GlyphRenderer\"}],\"title\":{\"id\":\"1039\",\"type\":\"Title\"},\"toolbar\":{\"id\":\"1027\",\"type\":\"Toolbar\"},\"x_range\":{\"id\":\"1003\",\"type\":\"DataRange1d\"},\"x_scale\":{\"id\":\"1007\",\"type\":\"LinearScale\"},\"y_range\":{\"id\":\"1005\",\"type\":\"DataRange1d\"},\"y_scale\":{\"id\":\"1009\",\"type\":\"LinearScale\"}},\"id\":\"1002\",\"subtype\":\"Figure\",\"type\":\"Plot\"},{\"attributes\":{\"data_source\":{\"id\":\"1034\",\"type\":\"ColumnDataSource\"},\"glyph\":{\"id\":\"1035\",\"type\":\"Line\"},\"hover_glyph\":null,\"muted_glyph\":null,\"nonselection_glyph\":{\"id\":\"1036\",\"type\":\"Line\"},\"selection_glyph\":null,\"view\":{\"id\":\"1038\",\"type\":\"CDSView\"}},\"id\":\"1037\",\"type\":\"GlyphRenderer\"},{\"attributes\":{\"callback\":null},\"id\":\"1005\",\"type\":\"DataRange1d\"},{\"attributes\":{},\"id\":\"1012\",\"type\":\"BasicTicker\"},{\"attributes\":{\"source\":{\"id\":\"1034\",\"type\":\"ColumnDataSource\"}},\"id\":\"1038\",\"type\":\"CDSView\"},{\"attributes\":{\"axis_label\":\"v (mV)\",\"formatter\":{\"id\":\"1043\",\"type\":\"BasicTickFormatter\"},\"ticker\":{\"id\":\"1017\",\"type\":\"BasicTicker\"}},\"id\":\"1016\",\"type\":\"LinearAxis\"},{\"attributes\":{},\"id\":\"1017\",\"type\":\"BasicTicker\"},{\"attributes\":{},\"id\":\"1043\",\"type\":\"BasicTickFormatter\"},{\"attributes\":{\"dimension\":1,\"ticker\":{\"id\":\"1017\",\"type\":\"BasicTicker\"}},\"id\":\"1020\",\"type\":\"Grid\"},{\"attributes\":{\"ticker\":{\"id\":\"1012\",\"type\":\"BasicTicker\"}},\"id\":\"1015\",\"type\":\"Grid\"},{\"attributes\":{\"callback\":null},\"id\":\"1003\",\"type\":\"DataRange1d\"},{\"attributes\":{},\"id\":\"1045\",\"type\":\"UnionRenderers\"},{\"attributes\":{},\"id\":\"1046\",\"type\":\"Selection\"},{\"attributes\":{\"text\":\"\"},\"id\":\"1039\",\"type\":\"Title\"},{\"attributes\":{\"bottom_units\":\"screen\",\"fill_alpha\":{\"value\":0.5},\"fill_color\":{\"value\":\"lightgrey\"},\"left_units\":\"screen\",\"level\":\"overlay\",\"line_alpha\":{\"value\":1.0},\"line_color\":{\"value\":\"black\"},\"line_dash\":[4,4],\"line_width\":{\"value\":2},\"render_mode\":\"css\",\"right_units\":\"screen\",\"top_units\":\"screen\"},\"id\":\"1047\",\"type\":\"BoxAnnotation\"},{\"attributes\":{},\"id\":\"1021\",\"type\":\"PanTool\"},{\"attributes\":{},\"id\":\"1022\",\"type\":\"WheelZoomTool\"},{\"attributes\":{\"overlay\":{\"id\":\"1047\",\"type\":\"BoxAnnotation\"}},\"id\":\"1023\",\"type\":\"BoxZoomTool\"},{\"attributes\":{},\"id\":\"1024\",\"type\":\"SaveTool\"},{\"attributes\":{},\"id\":\"1025\",\"type\":\"ResetTool\"},{\"attributes\":{},\"id\":\"1026\",\"type\":\"HelpTool\"},{\"attributes\":{\"active_drag\":\"auto\",\"active_inspect\":\"auto\",\"active_multi\":null,\"active_scroll\":\"auto\",\"active_tap\":\"auto\",\"tools\":[{\"id\":\"1021\",\"type\":\"PanTool\"},{\"id\":\"1022\",\"type\":\"WheelZoomTool\"},{\"id\":\"1023\",\"type\":\"BoxZoomTool\"},{\"id\":\"1024\",\"type\":\"SaveTool\"},{\"id\":\"1025\",\"type\":\"ResetTool\"},{\"id\":\"1026\",\"type\":\"HelpTool\"}]},\"id\":\"1027\",\"type\":\"Toolbar\"},{\"attributes\":{\"callback\":null,\"data\":{\"x\":[0.0,0.025,0.05,0.075,0.09999999999999999,0.12499999999999999,0.15,0.17500000000000002,0.20000000000000004,0.22500000000000006,0.25000000000000006,0.2750000000000001,0.3000000000000001,0.3250000000000001,0.35000000000000014,0.37500000000000017,0.4000000000000002,0.4250000000000002,0.45000000000000023,0.47500000000000026,0.5000000000000002,0.5250000000000001,0.55,0.575,0.5999999999999999,0.6249999999999998,0.6499999999999997,0.6749999999999996,0.6999999999999995,0.7249999999999994,0.7499999999999993,0.7749999999999992,0.7999999999999992,0.8249999999999991,0.849999999999999,0.8749999999999989,0.8999999999999988,0.9249999999999987,0.9499999999999986,0.9749999999999985,0.9999999999999984,1.0249999999999984,1.0499999999999983,1.0749999999999982,1.099999999999998,1.124999999999998,1.149999999999998,1.1749999999999978,1.1999999999999977,1.2249999999999976,1.2499999999999976,1.2749999999999975,1.2999999999999974,1.3249999999999973,1.3499999999999972,1.3749999999999971,1.399999999999997,1.424999999999997,1.4499999999999968,1.4749999999999968,1.4999999999999967,1.5249999999999966,1.5499999999999965,1.5749999999999964,1.5999999999999963,1.6249999999999962,1.6499999999999961,1.674999999999996,1.699999999999996,1.7249999999999959,1.7499999999999958,1.7749999999999957,1.7999999999999956,1.8249999999999955,1.8499999999999954,1.8749999999999953,1.8999999999999952,1.9249999999999952,1.949999999999995,1.974999999999995,1.999999999999995,2.024999999999995,2.0499999999999954,2.0749999999999957,2.099999999999996,2.1249999999999964,2.149999999999997,2.174999999999997,2.1999999999999975,2.224999999999998,2.2499999999999982,2.2749999999999986,2.299999999999999,2.3249999999999993,2.3499999999999996,2.375,2.4000000000000004,2.4250000000000007,2.450000000000001,2.4750000000000014,2.5000000000000018,2.525000000000002,2.5500000000000025,2.575000000000003,2.600000000000003,2.6250000000000036,2.650000000000004,2.6750000000000043,2.7000000000000046,2.725000000000005,2.7500000000000053,2.7750000000000057,2.800000000000006,2.8250000000000064,2.8500000000000068,2.875000000000007,2.9000000000000075,2.925000000000008,2.950000000000008,2.9750000000000085,3.000000000000009,3.0250000000000092,3.0500000000000096,3.07500000000001,3.1000000000000103,3.1250000000000107,3.150000000000011,3.1750000000000114,3.2000000000000117,3.225000000000012,3.2500000000000124,3.275000000000013,3.300000000000013,3.3250000000000135,3.350000000000014,3.375000000000014,3.4000000000000146,3.425000000000015,3.4500000000000153,3.4750000000000156,3.500000000000016,3.5250000000000163,3.5500000000000167,3.575000000000017,3.6000000000000174,3.6250000000000178,3.650000000000018,3.6750000000000185,3.700000000000019,3.725000000000019,3.7500000000000195,3.77500000000002,3.8000000000000203,3.8250000000000206,3.850000000000021,3.8750000000000213,3.9000000000000217,3.925000000000022,3.9500000000000224,3.9750000000000227,4.000000000000023,4.0250000000000234,4.050000000000024,4.075000000000024,4.1000000000000245,4.125000000000025,4.150000000000025,4.175000000000026,4.200000000000026,4.225000000000026,4.250000000000027,4.275000000000027,4.300000000000027,4.325000000000028,4.350000000000028,4.375000000000028,4.400000000000029,4.425000000000029,4.4500000000000295,4.47500000000003,4.50000000000003,4.5250000000000306,4.550000000000031,4.575000000000031,4.600000000000032,4.625000000000032,4.650000000000032,4.675000000000033,4.700000000000033,4.725000000000033,4.750000000000034,4.775000000000034,4.8000000000000345,4.825000000000035,4.850000000000035,4.8750000000000355,4.900000000000036,4.925000000000036,4.950000000000037,4.975000000000037,5.000000000000037,5.025000000000038,5.050000000000038,5.075000000000038,5.100000000000039,5.125000000000039,5.150000000000039,5.17500000000004,5.20000000000004,5.2250000000000405,5.250000000000041,5.275000000000041,5.300000000000042,5.325000000000042,5.350000000000042,5.375000000000043,5.400000000000043,5.425000000000043,5.450000000000044,5.475000000000044,5.500000000000044,5.525000000000045,5.550000000000045,5.5750000000000455,5.600000000000046,5.625000000000046,5.6500000000000465,5.675000000000047,5.700000000000047,5.725000000000048,5.750000000000048,5.775000000000048,5.800000000000049,5.825000000000049,5.850000000000049,5.87500000000005,5.90000000000005,5.9250000000000504,5.950000000000051,5.975000000000051,6.0000000000000515,6.025000000000052,6.050000000000052,6.075000000000053,6.100000000000053,6.125000000000053,6.150000000000054,6.175000000000054,6.200000000000054,6.225000000000055,6.250000000000055,6.275000000000055,6.300000000000056,6.325000000000056,6.3500000000000565,6.375000000000057,6.400000000000057,6.4250000000000576,6.450000000000058,6.475000000000058,6.500000000000059,6.525000000000059,6.550000000000059,6.57500000000006,6.60000000000006,6.62500000000006,6.650000000000061,6.675000000000061,6.7000000000000615,6.725000000000062,6.750000000000062,6.7750000000000625,6.800000000000063,6.825000000000063,6.850000000000064,6.875000000000064,6.900000000000064,6.925000000000065,6.950000000000065,6.975000000000065,7.000000000000066,7.025000000000066,7.050000000000066,7.075000000000067,7.100000000000067,7.1250000000000675,7.150000000000068,7.175000000000068,7.200000000000069,7.225000000000069,7.250000000000069,7.27500000000007,7.30000000000007,7.32500000000007,7.350000000000071,7.375000000000071,7.400000000000071,7.425000000000072,7.450000000000072,7.4750000000000725,7.500000000000073,7.525000000000073,7.5500000000000735,7.575000000000074,7.600000000000074,7.625000000000075,7.650000000000075,7.675000000000075,7.700000000000076,7.725000000000076,7.750000000000076,7.775000000000077,7.800000000000077,7.8250000000000774,7.850000000000078,7.875000000000078,7.9000000000000785,7.925000000000079,7.950000000000079,7.97500000000008,8.00000000000008,8.025000000000079,8.050000000000077,8.075000000000076,8.100000000000074,8.125000000000073,8.150000000000071,8.17500000000007,8.200000000000069,8.225000000000067,8.250000000000066,8.275000000000064,8.300000000000063,8.325000000000061,8.35000000000006,8.375000000000059,8.400000000000057,8.425000000000056,8.450000000000054,8.475000000000053,8.500000000000052,8.52500000000005,8.550000000000049,8.575000000000047,8.600000000000046,8.625000000000044,8.650000000000043,8.675000000000042,8.70000000000004,8.725000000000039,8.750000000000037,8.775000000000036,8.800000000000034,8.825000000000033,8.850000000000032,8.87500000000003,8.900000000000029,8.925000000000027,8.950000000000026,8.975000000000025,9.000000000000023,9.025000000000022,9.05000000000002,9.075000000000019,9.100000000000017,9.125000000000016,9.150000000000015,9.175000000000013,9.200000000000012,9.22500000000001,9.250000000000009,9.275000000000007,9.300000000000006,9.325000000000005,9.350000000000003,9.375000000000002,9.4,9.424999999999999,9.449999999999998,9.474999999999996,9.499999999999995,9.524999999999993,9.549999999999992,9.57499999999999,9.599999999999989,9.624999999999988,9.649999999999986,9.674999999999985,9.699999999999983,9.724999999999982,9.74999999999998,9.774999999999979,9.799999999999978,9.824999999999976,9.849999999999975,9.874999999999973,9.899999999999972,9.92499999999997,9.949999999999969,9.974999999999968,9.999999999999966,10.024999999999965,10.049999999999963,10.074999999999962,10.09999999999996,10.12499999999996,10.149999999999958,10.174999999999956,10.199999999999955,10.224999999999953,10.249999999999952,10.27499999999995,10.29999999999995,10.324999999999948,10.349999999999946,10.374999999999945,10.399999999999944,10.424999999999942,10.44999999999994,10.47499999999994,10.499999999999938,10.524999999999936,10.549999999999935,10.574999999999934,10.599999999999932,10.62499999999993,10.64999999999993,10.674999999999928,10.699999999999926,10.724999999999925,10.749999999999924,10.774999999999922,10.79999999999992,10.82499999999992,10.849999999999918,10.874999999999917,10.899999999999915,10.924999999999914,10.949999999999912,10.97499999999991,10.99999999999991,11.024999999999908,11.049999999999907,11.074999999999905,11.099999999999904,11.124999999999902,11.1499999999999,11.1749999999999,11.199999999999898,11.224999999999897,11.249999999999895,11.274999999999894,11.299999999999892,11.324999999999891,11.34999999999989,11.374999999999888,11.399999999999887,11.424999999999885,11.449999999999884,11.474999999999882,11.499999999999881,11.52499999999988,11.549999999999878,11.574999999999877,11.599999999999875,11.624999999999874,11.649999999999872,11.674999999999871,11.69999999999987,11.724999999999868,11.749999999999867,11.774999999999865,11.799999999999864,11.824999999999863,11.849999999999861,11.87499999999986,11.899999999999858,11.924999999999857,11.949999999999855,11.974999999999854,11.999999999999853,12.024999999999851,12.04999999999985,12.074999999999848,12.099999999999847,12.124999999999845,12.149999999999844,12.174999999999843,12.199999999999841,12.22499999999984,12.249999999999838,12.274999999999837,12.299999999999836,12.324999999999834,12.349999999999833,12.374999999999831,12.39999999999983,12.424999999999828,12.449999999999827,12.474999999999826,12.499999999999824,12.524999999999823,12.549999999999821,12.57499999999982,12.599999999999818,12.624999999999817,12.649999999999816,12.674999999999814,12.699999999999813,12.724999999999811,12.74999999999981,12.774999999999809,12.799999999999807,12.824999999999806,12.849999999999804,12.874999999999803,12.899999999999801,12.9249999999998,12.949999999999799,12.974999999999797,12.999999999999796,13.024999999999794,13.049999999999793,13.074999999999791,13.09999999999979,13.124999999999789,13.149999999999787,13.174999999999786,13.199999999999784,13.224999999999783,13.249999999999782,13.27499999999978,13.299999999999779,13.324999999999777,13.349999999999776,13.374999999999774,13.399999999999773,13.424999999999772,13.44999999999977,13.474999999999769,13.499999999999767,13.524999999999766,13.549999999999764,13.574999999999763,13.599999999999762,13.62499999999976,13.649999999999759,13.674999999999757,13.699999999999756,13.724999999999755,13.749999999999753,13.774999999999752,13.79999999999975,13.824999999999749,13.849999999999747,13.874999999999746,13.899999999999745,13.924999999999743,13.949999999999742,13.97499999999974,13.999999999999739,14.024999999999737,14.049999999999736,14.074999999999735,14.099999999999733,14.124999999999732,14.14999999999973,14.174999999999729,14.199999999999728,14.224999999999726,14.249999999999725,14.274999999999723,14.299999999999722,14.32499999999972,14.349999999999719,14.374999999999718,14.399999999999716,14.424999999999715,14.449999999999713,14.474999999999712,14.49999999999971,14.524999999999709,14.549999999999708,14.574999999999706,14.599999999999705,14.624999999999703,14.649999999999702,14.6749999999997,14.699999999999699,14.724999999999698,14.749999999999696,14.774999999999695,14.799999999999693,14.824999999999692,14.84999999999969,14.87499999999969,14.899999999999688,14.924999999999686,14.949999999999685,14.974999999999683,14.999999999999682,15.02499999999968,15.04999999999968,15.074999999999678,15.099999999999676,15.124999999999675,15.149999999999674,15.174999999999672,15.19999999999967,15.22499999999967,15.249999999999668,15.274999999999666,15.299999999999665,15.324999999999664,15.349999999999662,15.37499999999966,15.39999999999966,15.424999999999658,15.449999999999656,15.474999999999655,15.499999999999654,15.524999999999652,15.54999999999965,15.57499999999965,15.599999999999648,15.624999999999647,15.649999999999645,15.674999999999644,15.699999999999642,15.72499999999964,15.74999999999964,15.774999999999638,15.799999999999637,15.824999999999635,15.849999999999634,15.874999999999632,15.89999999999963,15.92499999999963,15.949999999999628,15.974999999999627,15.999999999999625,16.024999999999626,16.049999999999624,16.074999999999623,16.09999999999962,16.12499999999962,16.14999999999962,16.174999999999617,16.199999999999616,16.224999999999614,16.249999999999613,16.27499999999961,16.29999999999961,16.32499999999961,16.349999999999607,16.374999999999606,16.399999999999604,16.424999999999603,16.4499999999996,16.4749999999996,16.4999999999996,16.524999999999597,16.549999999999596,16.574999999999594,16.599999999999593,16.62499999999959,16.64999999999959,16.67499999999959,16.699999999999587,16.724999999999586,16.749999999999584,16.774999999999583,16.79999999999958,16.82499999999958,16.84999999999958,16.874999999999577,16.899999999999576,16.924999999999574,16.949999999999573,16.97499999999957,16.99999999999957,17.02499999999957,17.049999999999567,17.074999999999566,17.099999999999564,17.124999999999563,17.14999999999956,17.17499999999956,17.19999999999956,17.224999999999557,17.249999999999556,17.274999999999554,17.299999999999553,17.32499999999955,17.34999999999955,17.37499999999955,17.399999999999547,17.424999999999546,17.449999999999545,17.474999999999543,17.49999999999954,17.52499999999954,17.54999999999954,17.574999999999537,17.599999999999536,17.624999999999535,17.649999999999533,17.67499999999953,17.69999999999953,17.72499999999953,17.749999999999527,17.774999999999526,17.799999999999525,17.824999999999523,17.849999999999522,17.87499999999952,17.89999999999952,17.924999999999518,17.949999999999516,17.974999999999515,17.999999999999513,18.024999999999512,18.04999999999951,18.07499999999951,18.099999999999508,18.124999999999506,18.149999999999505,18.174999999999503,18.199999999999502,18.2249999999995,18.2499999999995,18.274999999999498,18.299999999999496,18.324999999999495,18.349999999999493,18.374999999999492,18.39999999999949,18.42499999999949,18.449999999999488,18.474999999999486,18.499999999999485,18.524999999999483,18.549999999999482,18.57499999999948,18.59999999999948,18.624999999999478,18.649999999999476,18.674999999999475,18.699999999999473,18.724999999999472,18.74999999999947,18.77499999999947,18.799999999999468,18.824999999999466,18.849999999999465,18.874999999999464,18.899999999999462,18.92499999999946,18.94999999999946,18.974999999999458,18.999999999999456,19.024999999999455,19.049999999999454,19.074999999999452,19.09999999999945,19.12499999999945,19.149999999999448,19.174999999999446,19.199999999999445,19.224999999999444,19.249999999999442,19.27499999999944,19.29999999999944,19.324999999999438,19.349999999999437,19.374999999999435,19.399999999999434,19.424999999999432,19.44999999999943,19.47499999999943,19.499999999999428,19.524999999999427,19.549999999999425,19.574999999999424,19.599999999999422,19.62499999999942,19.64999999999942,19.674999999999418,19.699999999999417,19.724999999999415,19.749999999999414,19.774999999999412,19.79999999999941,19.82499999999941,19.849999999999408,19.874999999999407,19.899999999999405,19.924999999999404,19.949999999999402,19.9749999999994,19.9999999999994,20.024999999999398,20.049999999999397,20.074999999999395,20.099999999999394,20.124999999999392,20.14999999999939,20.17499999999939,20.199999999999388,20.224999999999387,20.249999999999385,20.274999999999384,20.299999999999383,20.32499999999938,20.34999999999938,20.37499999999938,20.399999999999377,20.424999999999375,20.449999999999374,20.474999999999373,20.49999999999937,20.52499999999937,20.54999999999937,20.574999999999367,20.599999999999365,20.624999999999364,20.649999999999363,20.67499999999936,20.69999999999936,20.72499999999936,20.749999999999357,20.774999999999356,20.799999999999354,20.824999999999353,20.84999999999935,20.87499999999935,20.89999999999935,20.924999999999347,20.949999999999346,20.974999999999344,20.999999999999343,21.02499999999934,21.04999999999934,21.07499999999934,21.099999999999337,21.124999999999336,21.149999999999334,21.174999999999333,21.19999999999933,21.22499999999933,21.24999999999933,21.274999999999327,21.299999999999326,21.324999999999324,21.349999999999323,21.37499999999932,21.39999999999932,21.42499999999932,21.449999999999317,21.474999999999316,21.499999999999314,21.524999999999313,21.54999999999931,21.57499999999931,21.59999999999931,21.624999999999307,21.649999999999306,21.674999999999304,21.699999999999303,21.7249999999993,21.7499999999993,21.7749999999993,21.799999999999297,21.824999999999296,21.849999999999294,21.874999999999293,21.89999999999929,21.92499999999929,21.94999999999929,21.974999999999287,21.999999999999286,22.024999999999284,22.049999999999283,22.07499999999928,22.09999999999928,22.12499999999928,22.149999999999277,22.174999999999276,22.199999999999275,22.224999999999273,22.24999999999927,22.27499999999927,22.29999999999927,22.324999999999267,22.349999999999266,22.374999999999265,22.399999999999263,22.42499999999926,22.44999999999926,22.47499999999926,22.499999999999257,22.524999999999256,22.549999999999255,22.574999999999253,22.599999999999252,22.62499999999925,22.64999999999925,22.674999999999248,22.699999999999246,22.724999999999245,22.749999999999243,22.774999999999242,22.79999999999924,22.82499999999924,22.849999999999238,22.874999999999236,22.899999999999235,22.924999999999233,22.949999999999232,22.97499999999923,22.99999999999923,23.024999999999228,23.049999999999226,23.074999999999225,23.099999999999223,23.124999999999222,23.14999999999922,23.17499999999922,23.199999999999218,23.224999999999216,23.249999999999215,23.274999999999213,23.299999999999212,23.32499999999921,23.34999999999921,23.374999999999208,23.399999999999206,23.424999999999205,23.449999999999203,23.474999999999202,23.4999999999992,23.5249999999992,23.549999999999198,23.574999999999196,23.599999999999195,23.624999999999194,23.649999999999192,23.67499999999919,23.69999999999919,23.724999999999188,23.749999999999186,23.774999999999185,23.799999999999184,23.824999999999182,23.84999999999918,23.87499999999918,23.899999999999178,23.924999999999176,23.949999999999175,23.974999999999174,23.999999999999172,24.02499999999917,24.04999999999917,24.074999999999168,24.099999999999167,24.124999999999165,24.149999999999164,24.174999999999162,24.19999999999916,24.22499999999916,24.249999999999158,24.274999999999157,24.299999999999155,24.324999999999154,24.349999999999152,24.37499999999915,24.39999999999915,24.424999999999148,24.449999999999147,24.474999999999145,24.499999999999144,24.524999999999142,24.54999999999914,24.57499999999914,24.599999999999138,24.624999999999137,24.649999999999135,24.674999999999134,24.699999999999132,24.72499999999913,24.74999999999913,24.774999999999128,24.799999999999127,24.824999999999125,24.849999999999124,24.874999999999122,24.89999999999912,24.92499999999912,24.949999999999118,24.974999999999117,24.999999999999115,25.024999999999114,25.049999999999113,25.07499999999911,25.09999999999911,25.12499999999911,25.149999999999107,25.174999999999105,25.199999999999104,25.224999999999103,25.2499999999991,25.2749999999991,25.2999999999991,25.324999999999097,25.349999999999095,25.374999999999094,25.399999999999093,25.42499999999909,25.44999999999909,25.47499999999909,25.499999999999087,25.524999999999086,25.549999999999084,25.574999999999083,25.59999999999908,25.62499999999908,25.64999999999908,25.674999999999077,25.699999999999076,25.724999999999074,25.749999999999073,25.77499999999907,25.79999999999907,25.82499999999907,25.849999999999067,25.874999999999066,25.899999999999064,25.924999999999063,25.94999999999906,25.97499999999906,25.99999999999906,26.024999999999057,26.049999999999056,26.074999999999054,26.099999999999053,26.12499999999905,26.14999999999905,26.17499999999905,26.199999999999047,26.224999999999046,26.249999999999044,26.274999999999043,26.29999999999904,26.32499999999904,26.34999999999904,26.374999999999037,26.399999999999036,26.424999999999034,26.449999999999033,26.47499999999903,26.49999999999903,26.52499999999903,26.549999999999027,26.574999999999026,26.599999999999024,26.624999999999023,26.64999999999902,26.67499999999902,26.69999999999902,26.724999999999017,26.749999999999016,26.774999999999014,26.799999999999013,26.82499999999901,26.84999999999901,26.87499999999901,26.899999999999007,26.924999999999006,26.949999999999005,26.974999999999003,26.999999999999,27.024999999999,27.049999999999,27.074999999998997,27.099999999998996,27.124999999998995,27.149999999998993,27.17499999999899,27.19999999999899,27.22499999999899,27.249999999998987,27.274999999998986,27.299999999998985,27.324999999998983,27.349999999998982,27.37499999999898,27.39999999999898,27.424999999998978,27.449999999998976,27.474999999998975,27.499999999998973,27.524999999998972,27.54999999999897,27.57499999999897,27.599999999998968,27.624999999998966,27.649999999998965,27.674999999998963,27.699999999998962,27.72499999999896,27.74999999999896,27.774999999998958,27.799999999998956,27.824999999998955,27.849999999998953,27.874999999998952,27.89999999999895,27.92499999999895,27.949999999998948,27.974999999998946,27.999999999998945,28.024999999998943,28.049999999998942,28.07499999999894,28.09999999999894,28.124999999998938,28.149999999998936,28.174999999998935,28.199999999998933,28.224999999998932,28.24999999999893,28.27499999999893,28.299999999998928,28.324999999998926,28.349999999998925,28.374999999998924,28.399999999998922,28.42499999999892,28.44999999999892,28.474999999998918,28.499999999998916,28.524999999998915,28.549999999998914,28.574999999998912,28.59999999999891,28.62499999999891,28.649999999998908,28.674999999998906,28.699999999998905,28.724999999998904,28.749999999998902,28.7749999999989,28.7999999999989,28.824999999998898,28.849999999998897,28.874999999998895,28.899999999998894,28.924999999998892,28.94999999999889,28.97499999999889,28.999999999998888,29.024999999998887,29.049999999998885,29.074999999998884,29.099999999998882,29.12499999999888,29.14999999999888,29.174999999998878,29.199999999998877,29.224999999998875,29.249999999998874,29.274999999998872,29.29999999999887,29.32499999999887,29.349999999998868,29.374999999998867,29.399999999998865,29.424999999998864,29.449999999998862,29.47499999999886,29.49999999999886,29.524999999998858,29.549999999998857,29.574999999998855,29.599999999998854,29.624999999998852,29.64999999999885,29.67499999999885,29.699999999998848,29.724999999998847,29.749999999998845,29.774999999998844,29.799999999998843,29.82499999999884,29.84999999999884,29.87499999999884,29.899999999998837,29.924999999998835,29.949999999998834,29.974999999998833,29.99999999999883,30.02499999999883,30.04999999999883,30.074999999998827,30.099999999998825,30.124999999998824,30.149999999998823,30.17499999999882,30.19999999999882,30.22499999999882,30.249999999998817,30.274999999998816,30.299999999998814,30.324999999998813,30.34999999999881,30.37499999999881,30.39999999999881,30.424999999998807,30.449999999998806,30.474999999998804,30.499999999998803,30.5249999999988,30.5499999999988,30.5749999999988,30.599999999998797,30.624999999998796,30.649999999998794,30.674999999998793,30.69999999999879,30.72499999999879,30.74999999999879,30.774999999998787,30.799999999998786,30.824999999998784,30.849999999998783,30.87499999999878,30.89999999999878,30.92499999999878,30.949999999998777,30.974999999998776,30.999999999998774,31.024999999998773,31.04999999999877,31.07499999999877,31.09999999999877,31.124999999998767,31.149999999998766,31.174999999998764,31.199999999998763,31.22499999999876,31.24999999999876,31.27499999999876,31.299999999998757,31.324999999998756,31.349999999998754,31.374999999998753,31.39999999999875,31.42499999999875,31.44999999999875,31.474999999998747,31.499999999998746,31.524999999998744,31.549999999998743,31.57499999999874,31.59999999999874,31.62499999999874,31.649999999998737,31.674999999998736,31.699999999998735,31.724999999998733,31.74999999999873,31.77499999999873,31.79999999999873,31.824999999998727,31.849999999998726,31.874999999998725,31.899999999998723,31.92499999999872,31.94999999999872,31.97499999999872,31.999999999998717,32.02499999999872,32.049999999998725,32.07499999999873,32.09999999999874,32.12499999999874,32.14999999999875,32.174999999998754,32.19999999999876,32.224999999998765,32.24999999999877,32.274999999998776,32.29999999999878,32.32499999999879,32.34999999999879,32.3749999999988,32.399999999998805,32.42499999999881,32.449999999998816,32.47499999999882,32.49999999999883,32.52499999999883,32.54999999999884,32.574999999998845,32.59999999999885,32.624999999998856,32.64999999999886,32.67499999999887,32.69999999999887,32.72499999999888,32.749999999998884,32.77499999999889,32.799999999998896,32.8249999999989,32.84999999999891,32.87499999999891,32.89999999999892,32.924999999998924,32.94999999999893,32.974999999998936,32.99999999999894,33.02499999999895,33.04999999999895,33.07499999999896,33.099999999998964,33.12499999999897,33.149999999998975,33.17499999999898,33.19999999999899,33.22499999999899,33.249999999999,33.274999999999004,33.29999999999901,33.324999999999015,33.34999999999902,33.37499999999903,33.39999999999903,33.42499999999904,33.449999999999044,33.47499999999905,33.499999999999055,33.52499999999906,33.549999999999066,33.57499999999907,33.59999999999908,33.62499999999908,33.64999999999909,33.674999999999095,33.6999999999991,33.724999999999106,33.74999999999911,33.77499999999912,33.79999999999912,33.82499999999913,33.849999999999135,33.87499999999914,33.899999999999146,33.92499999999915,33.94999999999916,33.97499999999916,33.99999999999917,34.024999999999174,34.04999999999918,34.074999999999186,34.09999999999919,34.1249999999992,34.1499999999992,34.17499999999921,34.199999999999214,34.22499999999922,34.249999999999226,34.27499999999923,34.29999999999924,34.32499999999924,34.34999999999925,34.374999999999254,34.39999999999926,34.424999999999265,34.44999999999927,34.47499999999928,34.49999999999928,34.52499999999929,34.549999999999294,34.5749999999993,34.599999999999305,34.62499999999931,34.64999999999932,34.67499999999932,34.69999999999933,34.72499999999933,34.74999999999934,34.774999999999345,34.79999999999935,34.824999999999356,34.84999999999936,34.87499999999937,34.89999999999937,34.92499999999938,34.949999999999385,34.97499999999939,34.999999999999396,35.0249999999994,35.04999999999941,35.07499999999941,35.09999999999942,35.124999999999424,35.14999999999943,35.174999999999436,35.19999999999944,35.22499999999945,35.24999999999945,35.27499999999946,35.299999999999464,35.32499999999947,35.349999999999476,35.37499999999948,35.39999999999949,35.42499999999949,35.4499999999995,35.474999999999504,35.49999999999951,35.524999999999515,35.54999999999952,35.57499999999953,35.59999999999953,35.62499999999954,35.649999999999544,35.67499999999955,35.699999999999555,35.72499999999956,35.74999999999957,35.77499999999957,35.79999999999958,35.824999999999584,35.84999999999959,35.874999999999595,35.8999999999996,35.924999999999606,35.94999999999961,35.97499999999962,35.99999999999962,36.02499999999963,36.049999999999635,36.07499999999964,36.099999999999646,36.12499999999965,36.14999999999966,36.17499999999966,36.19999999999967,36.224999999999675,36.24999999999968,36.274999999999686,36.29999999999969,36.3249999999997,36.3499999999997,36.37499999999971,36.399999999999714,36.42499999999972,36.449999999999726,36.47499999999973,36.49999999999974,36.52499999999974,36.54999999999975,36.574999999999754,36.59999999999976,36.624999999999766,36.64999999999977,36.67499999999978,36.69999999999978,36.72499999999979,36.749999999999794,36.7749999999998,36.799999999999805,36.82499999999981,36.84999999999982,36.87499999999982,36.89999999999983,36.924999999999834,36.94999999999984,36.974999999999845,36.99999999999985,37.02499999999986,37.04999999999986,37.07499999999987,37.09999999999987,37.12499999999988,37.149999999999885,37.17499999999989,37.199999999999896,37.2249999999999,37.24999999999991,37.27499999999991,37.29999999999992,37.324999999999925,37.34999999999993,37.374999999999936,37.39999999999994,37.42499999999995,37.44999999999995,37.47499999999996,37.499999999999964,37.52499999999997,37.549999999999976,37.57499999999998,37.59999999999999,37.62499999999999,37.65,37.675000000000004,37.70000000000001,37.725000000000016,37.75000000000002,37.77500000000003,37.80000000000003,37.82500000000004,37.850000000000044,37.87500000000005,37.900000000000055,37.92500000000006,37.95000000000007,37.97500000000007,38.00000000000008,38.025000000000084,38.05000000000009,38.075000000000095,38.1000000000001,38.12500000000011,38.15000000000011,38.17500000000012,38.200000000000124,38.22500000000013,38.250000000000135,38.27500000000014,38.300000000000146,38.32500000000015,38.35000000000016,38.37500000000016,38.40000000000017,38.425000000000175,38.45000000000018,38.475000000000186,38.50000000000019,38.5250000000002,38.5500000000002,38.57500000000021,38.600000000000215,38.62500000000022,38.650000000000226,38.67500000000023,38.70000000000024,38.72500000000024,38.75000000000025,38.775000000000254,38.80000000000026,38.825000000000266,38.85000000000027,38.87500000000028,38.90000000000028,38.92500000000029,38.950000000000294,38.9750000000003,39.000000000000306,39.02500000000031,39.05000000000032,39.07500000000032,39.10000000000033,39.125000000000334,39.15000000000034,39.175000000000345,39.20000000000035,39.22500000000036,39.25000000000036,39.27500000000037,39.300000000000374,39.32500000000038,39.350000000000385,39.37500000000039,39.4000000000004,39.4250000000004,39.45000000000041,39.47500000000041,39.50000000000042,39.525000000000425,39.55000000000043,39.575000000000436,39.60000000000044,39.62500000000045,39.65000000000045,39.67500000000046,39.700000000000465,39.72500000000047,39.750000000000476,39.77500000000048,39.80000000000049,39.82500000000049,39.8500000000005,39.875000000000504,39.90000000000051,39.925000000000516,39.95000000000052,39.97500000000053,40.00000000000053],\"y\":[-70.0,-69.89932453842744,-69.79969222619457,-69.70106642603096,-69.6034146320151,-69.50670776049708,-69.41091959239345,-69.31602633009963,-69.22200624197333,-69.12883937432592,-69.03650731592069,-68.9449930036746,-68.8542783012617,-68.76434484687947,-68.67517555904084,-68.58675448984012,-68.49906670129158,-68.4120981603189,-68.32583564895002,-68.24026668701217,-68.15537946518634,-68.07116278671353,-67.98760601637989,-67.90469837711743,-67.82242582084295,-67.7407751296639,-67.65973383928487,-67.5792901722731,-67.49943297962578,-67.42015168937603,-67.34143626120617,-67.26327714621866,-67.1856652511602,-67.10859190651063,-67.03204883794123,-66.95602814072343,-66.8805191456326,-66.80550949033089,-66.73098754819922,-66.65694236505574,-66.58336360321603,-66.51024149188063,-66.43756678300406,-66.36533071193527,-66.29352496223,-66.22214163412492,-66.15117321623796,-66.08061256011949,-66.01045285733079,-65.94068761876817,-65.87130510371932,-65.80229332811696,-65.73364106620768,-65.66533778459791,-65.59737358361022,-65.52973914501631,-65.46242568535486,-65.39542491415929,-65.32872899651657,-65.26233051945827,-65.19622246175197,-65.13039816671723,-65.06485131773802,-64.99957591618387,-64.93456621010617,-64.8698088190072,-64.80529126055177,-64.74100186741279,-64.67692971324489,-64.61306454665161,-64.54939673217827,-64.48591719749967,-64.42261738608731,-64.35948921473559,-64.29652503540828,-64.2337176009343,-64.17106003414024,-64.10854580005693,-64.0461686808801,-63.983922753402084,-63.92179984386165,-62.09054533017927,-60.27791236630703,-58.48109417671057,-56.69686906395748,-56.689581484155106,-56.66800489077677,-56.6316015354515,-56.57999229877795,-56.512918939387724,-56.43020788753297,-56.33173693297435,-56.21740548929314,-56.08710863657818,-55.94071481839964,-55.77801321249294,-55.59866799957202,-55.40225266150312,-55.18823717516483,-54.955976236615875,-54.70466677700783,-54.43321466335181,-54.1403552364103,-53.824638287994695,-53.48426621089757,-53.117074808296636,-52.72062426792829,-52.291911045008135,-51.82744005252872,-51.3231149663311,-50.7740067355923,-50.17433023127235,-49.5171755139974,-48.79419064633375,-47.99544668742778,-47.108964425367475,-46.12000733258981,-45.010611290070294,-43.75873618329841,-42.33696000358387,-40.71130004599822,-38.83943747688698,-36.668577540863936,-34.13302127562241,-31.151892603211248,-27.62772848093575,-23.448016916452815,-18.493316812332935,-12.6591091677769,-5.9002662104312416,1.6977410653417593,9.839750264143639,17.996000301948786,25.50182961528256,31.77523108446465,36.51978927910113,39.77188764014086,41.7921657767987,42.911126300416704,43.42194413837668,43.54019517527239,43.40693766016386,43.107826370827,42.6926163575717,42.189685917627635,41.61534358513895,40.979319418993136,40.28782375695264,39.54522896650862,38.75494018585538,37.91986546931312,37.042662648162974,36.125868811020524,35.17196210902177,34.18338463741523,33.16255308737182,32.11185852478834,31.033660534472904,29.930278714834895,28.803987048826745,27.657002083770454,26.491471812962903,25.309468357401858,24.112981675398512,22.903914452901056,21.68408069611069,20.455201711354608,19.21890141620555,17.976706076438333,16.7300445127611,15.48024494137275,14.228543011713809,12.97608272375104,11.723916928071938,10.472994373113824,9.224188220911083,7.978295263972792,6.736034331593685,5.49801849916004,4.264807959588354,3.036905569184942,1.8147561575511497,0.5986992983668689,-0.610968235696336,-1.8139852657572795,-3.0101312516133247,-4.199231911699204,-5.381229144092934,-6.556070518976556,-7.723724183362788,-8.884186785026063,-10.037487721834308,-11.1837150587708,-12.32305593357816,-13.455696840304597,-14.581842688540998,-15.701729051103968,-16.815630898236392,-17.923869717720265,-19.026820120332214,-20.124942349741467,-21.21882422050614,-22.309089857698886,-23.39642501065879,-24.48159636457935,-25.56546764019624,-26.6490140495431,-27.73333594755608,-28.819672074078095,-29.909412495961792,-31.004111160124122,-32.10550240045159,-33.21561117871791,-34.33661672971357,-35.47087560121962,-36.6209342423595,-37.78953242879553,-38.97959733562958,-40.194226910657946,-41.436744176329725,-42.710509617063806,-44.018853991341416,-45.36498949641961,-46.751788217277,-48.18164792005309,-49.65612991165977,-51.17557286712885,-52.738775284075615,-54.3423355224322,-55.98021897973728,-57.64347149062806,-59.319256495810244,-60.9914266038887,-62.64070703866999,-64.24497400568006,-65.78132510725322,-67.22756355577614,-68.56425912385647,-69.77657436287355,-70.8556231296376,-71.7988056899821,-72.60938722590994,-73.2954200927468,-73.86828618231176,-74.34116709507809,-74.72773382777059,-75.04120662315586,-75.29372289726699,-75.49600321145223,-75.65726625193513,-75.78526874751863,-75.88643291486575,-75.96601294058854,-76.0282699387786,-76.07663776815171,-76.11387160724702,-76.14217572416479,-76.16331038036647,-76.17867993578507,-76.18940451909397,-76.19637779637604,-76.200313237872,-76.20178101170553,-76.201237319729,-76.19904768372443,-76.19550541355412,-76.19084625097308,-76.18525998424941,-76.17889966622263,-76.17188893719452,-76.16432784904741,-76.15629750351279,-76.14786375144251,-76.1390801477872,-76.12999031590122,-76.1206298424549,-76.11102779878806,-76.10120796451478,-76.0911898134226,-76.080989309287,-76.07061954942415,-76.06009128606883,-76.04941334954827,-76.03859299238088,-76.02763616959012,-76.01654776747601,-76.00533179066322,-75.99399151531394,-75.98252960904497,-75.9709482367483,-75.95924915226506,-75.94743376784491,-75.93550321159562,-75.923458375084,-75.91129995284666,-75.89902847524358,-75.88664433582497,-75.87414781416817,-75.86153909496853,-75.84881828402739,-75.83598542166563,-75.82304049399805,-75.80998344242701,-75.79681417165169,-75.7835325564379,-75.77013844735139,-75.75663167562288,-75.74301205728497,-75.72927939669701,-75.71543348955511,-75.70147412546831,-75.68740109016841,-75.67321416741024,-75.65891314060977,-75.6444977942599,-75.62996791515755,-75.61532329346996,-75.60056372366427,-75.58568900532019,-75.57069894384284,-75.55559335108991,-75.54037204592547,-75.52503485471055,-75.50958161173936,-75.49401215962841,-75.478326349665,-75.46252404212031,-75.44660510653186,-75.43056942195905,-75.41441687721519,-75.39814737107902,-75.38176081248791,-75.36525712071503,-75.34863622553222,-75.33189806736007,-75.31504259740662,-75.29806977779563,-75.28097958168573,-75.26377199338086,-75.24644700843305,-75.22900463373813,-75.21144488762462,-75.19376779993671,-75.17597341211129,-75.15806177724973,-75.14003296018444,-75.12188703754062,-75.10362409779336,-75.08524424132034,-75.06674758045017,-75.04813423950668,-75.02940435484912,-75.0105580749085,-74.99159556022015,-74.97251696308015,-74.9533224270859,-74.93401211870216,-74.91458622523886,-74.89504495319098,-74.87538852687649,-74.85561718731942,-74.83573119133423,-74.81573081077572,-74.79561633192475,-74.77538805498509,-74.75504629367136,-74.73459137487117,-74.71402363836773,-74.69334343661141,-74.67255113453102,-74.65164710937675,-74.63063175058868,-74.60950545968525,-74.58826865016759,-74.56692174743598,-74.54546518871555,-74.52389942298883,-74.50222491093317,-74.48044212486127,-74.4585515486639,-74.43655367775322,-74.41444901900628,-74.39223809070778,-74.36992142249161,-74.34749955528078,-74.32497304122523,-74.30234244363753,-74.27960833692592,-74.2567713065249,-74.23383194882301,-74.21079087108784,-74.18764869138819,-74.16440603851338,-74.14106355188967,-74.11762188149395,-74.09408168776439,-74.07044364150856,-74.0467084238086,-74.02287672592378,-73.9989492491905,-73.97492670030404,-73.95080969502261,-73.9265988806849,-73.90229493239613,-73.87789854981595,-73.85341045444984,-73.82883138736145,-73.80416210723764,-73.77940338874895,-73.75455602115744,-73.72962080713219,-73.70459856173842,-73.67949011157242,-73.65429629401844,-73.6290179566078,-73.60365595646344,-73.57821115981604,-73.55268444157976,-73.52707668497789,-73.50138878120998,-73.47562162915361,-73.44977613509468,-73.42385321248172,-73.39785378169965,-73.3717787698599,-73.34562911060375,-73.31940574391666,-73.29310961595142,-73.26674167885857,-73.24030289062256,-73.21379421490268,-73.18721662087755,-73.16057108309259,-73.13385858130971,-73.10708010035876,-73.08023662999021,-73.05332916472885,-73.02635870372808,-72.99932625062469,-72.97223280857796,-72.94507919541992,-72.91786626769544,-72.89059491509636,-72.8632660557248,-72.83588063205681,-72.80843960749851,-72.78094396344368,-72.7533946967567,-72.72579281761611,-72.6981393476643,-72.67043531841723,-72.64268176989523,-72.61487974944157,-72.58703031070083,-72.55913451273317,-72.53119341924429,-72.5032080979138,-72.47517961980732,-72.44710905886,-72.41899749142064,-72.39084599584767,-72.36265565214904,-72.33442754165971,-72.30616274675104,-72.27786235056752,-72.24952743678655,-72.22115908939823,-72.19275839250183,-72.16432643011689,-72.1358642860065,-72.10737304351123,-72.0788537853921,-72.05030759368127,-72.02173554953946,-71.99313873311917,-71.96451814810895,-71.93587456830096,-71.90720881463263,-71.87852174797932,-71.84981426297539,-71.82108728271149,-71.79234175417969,-71.76357864435751,-71.73479893683846,-71.70600362893039,-71.67719372915481,-71.64837025508999,-71.61953423150909,-71.59068668877164,-71.5618286614325,-71.53296118703803,-71.50408530508298,-71.47520205610576,-71.44631248090276,-71.41741761984521,-71.38851851228418,-71.35961619603177,-71.33071170690772,-71.30180607834258,-71.2729003410295,-71.24399552261814,-71.2150926474448,-71.18619273629399,-71.15729680618688,-71.1284058701933,-71.09952093726403,-71.07064301208044,-71.04177309491952,-71.01291218153206,-70.98406126303217,-70.95522106694398,-70.92639214261281,-70.8975750977572,-70.86877058970467,-70.83997931782672,-70.8112020170039,-70.78243945197686,-70.7536924124606,-70.72496170891645,-70.69624816889188,-70.66755263385059,-70.63887595642638,-70.61021899804365,-70.58158262685507,-70.55296771595393,-70.52437514182441,-70.49580578299815,-70.46726051888952,-70.43874022878603,-70.41024579097322,-70.38177808197632,-70.3533379759033,-70.32492634387584,-70.29654405353679,-70.26819196862398,-70.23987094860173,-70.21158184834253,-70.18332551785218,-70.15510280203291,-70.12691454047943,-70.09876156730355,-70.07064471098381,-70.04256479423668,-70.01452263390674,-69.9865190408732,-69.95855450547134,-69.93062921420689,-69.90274343087493,-69.87489748568201,-69.84709176579548,-69.81932670712763,-69.79160278718916,-69.76392051886997,-69.73628044502489,-69.70868313375885,-69.68112917432003,-69.65361917352222,-69.62615375262779,-69.59873354463215,-69.57135919189793,-69.5440313440942,-69.51675065640185,-69.48951778795116,-69.46233340046199,-69.43519815706107,-69.40811272125374,-69.38107775603079,-69.35409392309315,-69.32716188217971,-69.30028229048519,-69.27345580215666,-69.24668306785892,-69.2199647343999,-69.19330144440862,-69.16669383605914,-69.14014254283448,-69.11364819332572,-69.08721141106159,-69.06083281436491,-69.0345130162323,-69.00825262423422,-68.98205224043295,-68.95591187080483,-68.92983131926322,-68.903810485681,-68.87784935332219,-68.85194797785094,-68.82610647771489,-68.80032502572661,-68.77460384169119,-68.74894318594778,-68.72334335371022,-68.69780467010695,-68.67232748583324,-68.64691217333971,-68.62155912349108,-68.59626874263702,-68.57104145004477,-68.54587767564898,-68.5207778580801,-68.49574244293733,-68.47077188127635,-68.44586662828561,-68.42102714212838,-68.39625388293034,-68.3715473118951,-68.34690789053212,-68.32233607998337,-68.29783234043683,-68.27339713061612,-68.24903090733729,-68.22473412512431,-68.20050723587639,-68.17635068858054,-68.15226492906415,-68.12825039978239,-68.10430753963647,-68.08043678381864,-68.05663856368092,-68.03291330662437,-68.00926143600653,-67.98568337106468,-67.96217887435381,-67.93874736185381,-67.9153883683525,-67.8921015328835,-67.86888658591684,-67.84574333808531,-67.82267167025833,-67.79967152479891,-67.7767428978602,-67.75388583259621,-67.73110041317672,-67.70838675951035,-67.68574502259112,-67.66317538039455,-67.64067803425804,-67.6182532056884,-67.59590113354591,-67.57362207156083,-67.55141628614314,-67.52928405445094,-67.50722566268762,-67.48524140460044,-67.46333158015743,-67.44149649438144,-67.41973645632314,-67.3980517781566,-67.37644277438328,-67.35490976113155,-67.33345305554079,-67.31207297521993,-67.29076983777198,-67.2695439603765,-67.24839565942354,-67.22732525019275,-67.20633304657237,-67.18541936081351,-67.16458450331545,-67.1438287824382,-67.12315250433929,-67.1025559728316,-67.08203948925996,-67.06160335239409,-67.04124785833594,-67.02097330043959,-67.0007799692424,-66.98066815240561,-66.9606369291291,-66.9406854712093,-66.92081308102182,-66.9010191763046,-66.88130327670127,-66.86166499185605,-66.84210401087758,-66.82262009301151,-66.80321305938041,-66.7838827856674,-66.764629195634,-66.74545225537601,-66.72635196823246,-66.70732837027278,-66.68838152629567,-66.66951152628164,-66.65071848224697,-66.63200252545379,-66.61336380393537,-66.59480248030123,-66.57631872978989,-66.5579127385415,-66.53958470206524,-66.52133482387944,-66.50316331430503,-66.48507038939465,-66.46705626998248,-66.44912118084068,-66.43126534993074,-66.41348900773872,-66.39579238668509,-66.37817572060052,-66.36063924426033,-66.34318319297066,-66.32580780220086,-66.30851330725643,-66.29129994298825,-66.27416794353357,-66.25711754208552,-66.24014897068759,-66.22326246005021,-66.20645823938709,-66.1897365362688,-66.17309757649163,-66.15654158396009,-66.14006878058127,-66.12367938616971,-66.10737361836159,-66.09115169253703,-66.0750138217496,-66.05896021666211,-66.04299108548797,-66.02710663393731,-66.0113070651674,-65.99559257973674,-65.97996300586641,-65.9644172665484,-65.94895443227222,-65.93357370437057,-65.91827440023499,-65.90305594018706,-65.88791783581637,-65.87285967961834,-65.8578811357848,-65.84298193201694,-65.82816185224588,-65.81342073015846,-65.79875844343833,-65.78417490864233,-65.76967007664105,-65.75524392856087,-65.74089647217164,-65.72662773867036,-65.71243777981705,-65.69832666538365,-65.6842944808813,-65.67034132553518,-65.6564673104794,-65.6426725571479,-65.62895719583933,-65.61532136443692,-65.60176520726617,-65.5882888740751,-65.5748925191236,-65.5615763003697,-65.54834037874224,-65.53518491749027,-65.52211008160076,-65.50911603727698,-65.49620295147109,-65.48337099146462,-65.47062032449185,-65.45795111740105,-65.44536353634975,-65.43285774652989,-65.42043391191989,-65.40809219506028,-65.39583275685072,-65.38365575636561,-65.37156135068655,-65.35954969474953,-65.34762094120543,-65.33577524029221,-65.32401273971742,-65.3123335845502,-65.30073791712128,-65.2892258769304,-65.27779760056025,-65.26645322159611,-65.25519287055066,-65.24401667479336,-65.23292475848385,-65.221917242509,-65.21099424442308,-65.2001558783909,-65.1894022551334,-65.17873348187555,-65.16814966229626,-65.15765089648005,-65.14723728087048,-65.13690890822488,-65.12666586757042,-65.11650824416142,-65.1064361194377,-65.09644957098382,-65.08654867248933,-65.0767334937097,-65.0670041004281,-65.0573605544178,-65.04780291340526,-65.0383312310338,-65.02894555682776,-65.01964593615745,-65.01043241020427,-65.00130501592668,-64.99226378602636,-64.9833078840347,-64.97443642881778,-64.96564864540832,-64.95694385296038,-64.94832145402538,-64.93978092500271,-64.9313218076348,-64.92294370143095,-64.9146462569176,-64.90642916962378,-64.89829217472082,-64.8902350422446,-64.88225757283598,-64.87435959394311,-64.86654095643449,-64.85880153157822,-64.8511412083472,-64.84355989101462,-64.83605749700823,-64.82863395499493,-64.82128920317082,-64.81402318773401,-64.8068358615206,-64.79972718278586,-64.79269711411494,-64.785745621449,-64.77887267321417,-64.77207823954234,-64.76536229157367,-64.75872480083207,-64.75216573866574,-64.74568507574571,-64.7392827816162,-64.73295882429112,-64.72671316989188,-64.72054578232202,-64.7144566229746,-64.7084456504691,-64.70251282041454,-64.696658085196,-64.69088139378222,-64.68518269155192,-64.67956192013693,-64.67401901728056,-64.66855391670917,-64.66316654801622,-64.65785683655697,-64.65262470335308,-64.64747006500602,-64.64239283361846,-64.63739291672279,-64.63247021721618,-64.62762463330151,-64.62285605843364,-64.61816438127056,-64.61354948562892,-64.6090112504437,-64.6045495497315,-64.60016425255729,-64.59585522300432,-64.59162232014691,-64.58746539802597,-64.58338430562702,-64.57937888686055,-64.57544898054466,-64.5715944203897,-64.56781503498487,-64.56411064778682,-64.56048107710986,-64.55692613611798,-64.55344563281848,-64.55003937005718,-64.5467071455151,-64.54344875170669,-64.54026397597946,-64.53715260051499,-64.53411440233134,-64.53114915328679,-64.52825662008487,-64.52543656428074,-64.52268874228878,-64.5200129053915,-64.51740879974966,-64.51487616641366,-64.51241474133607,-64.51002425538552,-64.50770443436163,-64.50545499901128,-64.50327566504598,-64.50116614316048,-64.49912613905249,-64.4971553534437,-64.49525348210182,-64.49342021586388,-64.49165524066069,-64.48995823754242,-64.48832888270533,-64.48676684751969,-64.48527179855878,-64.48384339762912,-64.4824813018017,-64.48118516344448,-64.47995463025592,-64.47878934529965,-64.47768894704024,-64.4766530693801,-64.4756813416975,-64.47477338888555,-64.47392883139244,-64.47314728526264,-64.4724283621792,-64.4717716695071,-64.4711768103377,-64.47064338353408,-64.47017098377766,-64.4697592016156,-64.46940762350933,-64.46911583188405,-64.46888340517927,-64.4687099179002,-64.46859494067023,-64.46853804028432,-64.46853877976329,-64.4685967184091,-64.46871141186097,-64.46888241215241,-64.46910926776923,-64.46939152370823,-64.46972872153694,-64.47012039945406,-64.47056609235074,-64.4710653318727,-64.47161764648311,-64.47222256152627,-64.47287959929194,-64.47358827908056,-64.47434811726899,-64.47515862737716,-64.47601932013518,-64.4769297035513,-64.47788928298039,-64.47889756119297,-64.47995403844507,-64.48105821254843,-64.4822095789414,-64.48340763076025,-64.48465185891118,-64.48594175214257,-64.48727679711793,-64.48865647848919,-64.49008027897041,-64.49154767941192,-64.49305815887485,-64.49461119470594,-64.49620626261284,-64.4978428367396,-64.49952038974241,-64.50123839286583,-64.50299631601895,-64.50479362785207,-64.50662979583335,-64.50850428632577,-64.51041656466421,-64.51236609523262,-64.51435234154134,-64.51637476630445,-64.51843283151726,-64.52052599853373,-64.522653728144,-64.52481548065181,-64.52701071595202,-64.52923889360787,-64.53149947292837,-64.53379191304545,-64.536115672991,-64.53847021177384,-64.54085498845637,-64.5432694622312,-64.54571309249735,-64.54818533893649,-64.5506856615886,-64.55321352092759,-64.55576837793646,-64.55834969418227,-64.56095693189062,-64.56358955401984,-64.56624702433479,-64.56892880748018,-64.57163436905357,-64.5743631756778,-64.57711469507304,-64.57988839612824,-64.58268374897222,-64.58550022504407,-64.58833729716314,-64.59119443959831,-64.59407112813689,-64.59696684015265,-64.59988105467345,-64.60281325244812,-64.60576291601272,-64.60872952975615,-64.61171257998497,-64.61471155498766,-64.6177259450981,-64.62075524275825,-64.6237989425802,-64.62685654140736,-64.62992753837499,-64.63301143496977,-64.63610773508876,-64.63921594509739,-64.64233557388673,-64.64546613292984,-64.64860713633736,-64.65175810091216,-64.65491854620315,-64.65808799455823,-64.66126597117632,-64.66445200415849,-64.66764562455823,-64.67084636643075,-64.67405376688134,-64.67726736611289,-64.68048670747237,-64.68371133749643,-64.68694080595603,-64.69017466590009,-64.6934124736982,-64.69665378908238,-64.69989817518781,-64.70314519859268,-64.70639442935692,-64.70964544106008,-64.71289781083814,-64.71615111941941,-64.71940495115932,-64.72265889407433,-64.7259125398748,-64.72916548399685,-64.73241732563326,-64.73566766776335,-64.73891611718186,-64.74216228452687,-64.74540578430668,-64.74864623492574,-64.75188325870955,-64.7551164819286,-64.75834553482129,-64.76157005161596,-64.7647896705518,-64.76800403389888,-64.77121278797718,-64.77441558317464,-64.7776120739643,-64.78080191892039,-64.78398478073349,-64.78716032622486,-64.79032822635963,-64.7934881562592,-64.79663979521263,-64.79978282668716,-64.8029169383378,-64.80604182201591,-64.80915717377705,-64.8122626938878,-64.81535808683172,-64.81844306131445,-64.82151733026794,-64.82458061085377,-64.82763262446568,-64.83067309673119,-64.8337017575124,-64.83671834090602,-64.83972258524244,-64.84271423308417,-64.84569303122329,-64.84865873067831,-64.85161108669004,-64.85454985871687,-64.85747481042914,-64.8603857097029,-64.8632823286128,-64.86616444342434,-64.86903183458537,-64.87188428671688,-64.87472158860308,-64.87754353318083,-64.88034991752835,-64.88314054285331,-64.88591521448028,-64.88867374183742,-64.89141593844273,-64.89414162188949,-64.89685061383123,-64.89954273996608,-64.90221783002045,-64.90487571773224,-64.90751624083344,-64.91013924103221,-64.91274456399438,-64.91533205932446,-64.91790158054611,-64.92045298508216,-64.92298613423407,-64.92550089316093,-64.92799713085805,-64.93047472013498,-64.93293353759326,-64.9353734636035,-64.93779438228228,-64.94019618146847,-64.94257875269922,-64.94494199118559,-64.94728579578769,-64.94961006898961,-64.9519147168739,-64.95419964909568,-64.95646477885653,-64.95871002287792,-64.96093530137449,-64.96314053802686,-64.96532565995432,-64.96749059768706,-64.96963528513832,-64.97175965957616,-64.97386366159502,-64.975947235087,-64.97801032721304,-64.9800528883737,-64.98207487217995,-64.98407623542354,-64.98605693804734,-64.98801694311545,-64.98995621678314,-64.99187472826664,-64.99377244981278,-64.9956493566685,-64.99750542705016,-64.9993406421129,-65.00115498591965,-65.00294831644872,-65.00472043856635,-65.00647118436102,-65.00820041040605,-65.00990799532013,-65.01159383759278,-65.01325785364537,-65.01489997610193,-65.01652015224649,-65.01811834264629,-65.01969451992281,-65.02124866765409,-65.02278077939405,-65.0242908577958,-65.02577891382764,-65.02724496607136,-65.02868904009411,-65.03011116788522,-65.03151138735147,-65.0328897418639,-65.03424627985072,-65.03558105443126,-65.03689412308638,-65.03818554736145,-65.03945539259821,-65.04070372769252,-65.04193062487496,-65.04313615951204,-65.04432040992556,-65.04548345722822,-65.04662538517378,-65.04774628002015,-65.04884623040392,-65.0499253272253,-65.05098366354208,-65.05202133447202,-65.05303843710227,-65.05403507040565,-65.05501133516248,-65.05596733388788,-65.05690317076366,-65.0578189515744,-65.05871478364733,-65.05959077579556,-65.06044703826439,-65.06128368268033,-65.06210082200259,-65.06289857047679,-65.06367704359063,-65.06443635803149,-65.06517663164553,-65.06589798339841,-65.06660053333728,-65.06728440255405,-65.06794971314979,-65.06859658820015,-65.06922515172178,-65.06983552863956,-65.07042784475468,-65.07100222671349,-65.071558801977,-65.0720976987911,-65.07261904615729,-65.07312297380408,-65.07360961215889,-65.07407909232047,-65.07453154603178,-65.07496710565329,-65.07538590413687,-65.07578807499992,-65.07617375230004,-65.07654307060997,-65.076896164993,-65.07723317097869,-65.07755422453894,-65.07785946206448,-65.07814902034151,-65.07842303652889,-65.07868164813546,-65.0789249929978,-65.07915320925818,-65.07936643534292,-65.07956480994095,-65.07974847198274,-65.07991756061944,-65.08007221520232,-65.08021257526256,-65.0803387804912,-65.08045097071945,-65.08054928589918,-65.0806338660838,-65.08070485140927,-65.08076238207545,-65.0808065983277,-65.08083764043867,-65.08085564869049,-65.08086076335698,-65.08085312468637,-65.08083287288405,-65.08080014809569,-65.08075509039057,-65.08069783974513,-65.08062853602678,-65.08054731897793,-65.08045432820032,-65.08034970313943,-65.08023358306934,-65.0801061070776,-65.07996741405047,-65.07981764265838,-65.07965693134155,-65.07948541829582,-65.07930324145882,-65.07911053849624,-65.07890744678838,-65.07869410341691,-65.07847064515178,-65.07823720843847,-65.07799392938529,-65.07774094375107,-65.0774783869329,-65.07720639395416,-65.07692509945274,-65.07663463766943,-65.07633514243658,-65.07602674716688,-65.07570958484239,-65.07538378800376,-65.07504948873964,-65.07470681867622,-65.0743559089671,-65.07399689028324,-65.07362989280308,-65.07325504620297,-65.07287247964764,-65.07248232178095,-65.0720847007168,-65.07167974403019,-65.07126757874849,-65.07084833134286,-65.07042212771988,-65.06998909321331,-65.06954935257606,-65.06910302997233,-65.06865024896983,-65.06819113253233,-65.06772580301222,-65.06725438214333,-65.06677699103386,-65.0662937501595,-65.0658047793567,-65.06531019781607,-65.06481012407602,-65.0643046760164,-65.06379397085252,-65.06327812512905,-65.0627572547143,-65.06223147479454,-65.06170089986847,-65.06116564374186,-65.06062581952231,-65.06008153961419,-65.05953291571367,-65.05898005880395,-65.05842307915054,-65.05786208629681,-65.0572971890595,-65.05672849552454,-65.0561561130429,-65.05558014822658,-65.05500070694474,-65.05441789431997,-65.0538318147247,-65.05324257177769,-65.05265026834064,-65.05205500651503,-65.05145688763893,-65.05085601228403,-65.05025248025277,-65.04964639057556,-65.04903784150818,-65.04842693052917,-65.04781375433753,-65.04719840885028,-65.0465809892004,-65.04596158973466,-65.0453403040117,-65.04471722480015,-65.04409244407687,-65.04346605302528,-65.04283814203387,-65.0422088006947,-65.04157811780205,-65.04094618135125,-65.04031307853748,-65.03967889575473,-65.03904371859487,-65.03840763184678,-65.03777071949564,-65.03713306472221,-65.0364947499023,-65.03585585660628,-65.0352164655987,-65.03457665683797,-65.0339365094762,-65.03329610185907,-65.03265551152572,-65.03201481520891,-65.03137408883511,-65.03073340752468,-65.03009284559225,-65.02945247654705,-65.0288123730934,-65.02817260713122,-65.0275332497567,-65.02689437126294,-65.0262560411408,-65.02561832807969,-65.02498129996852,-65.0243450238967,-65.02370956615522,-65.02307499223778,-65.022441366842,-65.02180875387074,-65.02117721643341,-65.02054681684744,-65.01991761663972,-65.01928967654817,-65.01866305652342,-65.01803781573041,-65.0174140125502,-65.01679170458176,-65.01617094864385,-65.01555180077695,-65.01493431624527,-65.01431854953881,-65.01370455437547,-65.01309238370318,-65.01248208970223,-65.01187372378747,-65.01126733661069,-65.01066297806298,-65.01006069727725,-65.00946054263069,-65.00886256174732,-65.00826680150061,-65.00767330801614,-65.0070821266743,-65.00649330211309,-65.00590687823086,-65.00532289818922,-65.00474140441591,-65.00416243860776,-65.00358604173371,-65.00301225403778,-65.00244111504223,-65.00187266355063,-65.00130693765104,-65.00074397471926,-65.00018381142203,-64.99962648372036,-64.99907198526688,-64.99852029371925,-64.99797139304353,-64.9974252727475,-64.9968819271993,-64.99634135502149,-64.9958035585526,-64.99526854336841,-64.9947363178565,-64.99420689283815,-64.99368028123222,-64.99315649775667,-64.99263555866325,-64.99211748150184,-64.99160228491111,-64.99108998843275,-64.99058061234636,-64.99007417752303,-64.98957070529532,-64.989070217342,-64.98857273558582,-64.9880782821028,-64.98758687904204,-64.98709854855454,-64.98661331273033,-64.98613119354278,-64.9856522127995,-64.98517639209888,-64.98470375279187,-64.98423431594827,-64.98376810232706,-64.98330513235041,-64.98284542608086,-64.9823890032014,-64.98193588299813,-64.98148608434505,-64.98103962569107,-64.98059652504871,-64.98015679998444,-64.97972046761042,-64.97928754457755,-64.97885804706962,-64.9784319907986,-64.9780093910006,-64.97759026243288,-64.97717461937144,-64.97676247560925,-64.97635384445516,-64.9759487387332,-64.97554717078242,-64.97514915245712,-64.9747546951274,-64.97436380968013,-64.9739765065201,-64.97359279557158,-64.97321268627992,-64.97283618761357,-64.97246330806614,-64.97209405565869,-64.97172843794218,-64.97136646200003,-64.97100813445084,-64.97065346145115,-64.9703024486984,-64.96995510143394,-64.96961142444607,-64.96927142207323,-64.96893509820725,-64.96860245629658,-64.96827349934969,-64.96794822993844,-64.96762665020155,-64.96730876184806,-64.96699456616084,-64.96668406400019,-64.96637725580743,-64.96607414160849,-64.96577472101755,-64.96547899324077,-64.96518695707992,-64.96489861093615,-64.96461395281368,-64.96433298032359,-64.96405569068757,-64.96378208074172,-64.96351214694032,-64.96324588535964,-64.9629832917018,-64.96272436129857,-64.96246908911522,-64.96221746975438,-64.96196949745986,-64.96172516612057,-64.96148446927437,-64.96124740011189,-64.96101395148051,-64.96078411588819,-64.96055788550736,-64.96033525217882,-64.96011620741565,-64.9599007424071,-64.95968884802247,-64.95948051481503,-64.95927573302593,-64.9590744925881,-64.95887678313012,-64.95868259398016,-64.95849191416985,-64.95830473243824,-64.95812103723559,-64.95794081672734,-64.95776405879802,-64.95759075105504,-64.95742088083269,-64.95725443519594,-64.95709140094434,-64.95693176461589,-64.95677551249094,-64.95662263059597,-64.95647310470756,-64.95632692035609,-64.95618406282972,-64.95604451717814,-64.95590826821645,-64.95577530052893,-64.95564559847287,-64.95551914618241,-64.95539592757228,-64.95527592634163,-64.95515912597774,-64.9550455097599,-64.95493506076303,-64.95482776186155,-64.95472359573303,-64.95462254486195,-64.9545245915434,-64.95442971788684,-64.95433790581967,-64.95424913709104,-64.95416339327542,-64.95408065577632,-64.95400090582987,-64.95392412450849,-64.95385029272447,-64.95377939123362,-64.95371140063881,-64.95364630139355,-64.95358407380554,-64.95352469804027,-64.95346815412444,-64.95341442194956,-64.95336348127542,-64.95331531173353,-64.95326989283066,-64.95322720395221,-64.95318722436568,-64.95314993322407,-64.9531153095693,-64.95308333233554,-64.95305398035262,-64.95302723234936,-64.95300306695685,-64.95298146271183,-64.95296239805992,-64.95294585135892,-64.95293180088204,-64.95292022482116,-64.95291110128998,-64.9529044083273,-64.95290012390012,-64.95289822590685,-64.95289869218037,-64.95290150049122,-64.95290662855064,-64.95291405401363,-64.95292375448209,-64.95293570750773,-64.95294989059516,-64.95296628120485,-64.95298485675609,-64.95300559462993,-64.95302847217212,-64.953053466696,-64.9530805554854,-64.95310971579744,-64.95314092486542,-64.9531741599016,-64.95320939809997,-64.9532466166391,-64.9532857926848,-64.95332690339282,-64.95336992591163,-64.95341483738505,-64.95346161495492,-64.95351023576364]},\"selected\":{\"id\":\"1046\",\"type\":\"Selection\"},\"selection_policy\":{\"id\":\"1045\",\"type\":\"UnionRenderers\"}},\"id\":\"1034\",\"type\":\"ColumnDataSource\"},{\"attributes\":{},\"id\":\"1041\",\"type\":\"BasicTickFormatter\"},{\"attributes\":{},\"id\":\"1007\",\"type\":\"LinearScale\"},{\"attributes\":{},\"id\":\"1009\",\"type\":\"LinearScale\"},{\"attributes\":{\"line_color\":\"#1f77b4\",\"line_width\":2,\"x\":{\"field\":\"x\"},\"y\":{\"field\":\"y\"}},\"id\":\"1035\",\"type\":\"Line\"},{\"attributes\":{\"axis_label\":\"t (ms)\",\"formatter\":{\"id\":\"1041\",\"type\":\"BasicTickFormatter\"},\"ticker\":{\"id\":\"1012\",\"type\":\"BasicTicker\"}},\"id\":\"1011\",\"type\":\"LinearAxis\"},{\"attributes\":{\"line_alpha\":0.1,\"line_color\":\"#1f77b4\",\"line_width\":2,\"x\":{\"field\":\"x\"},\"y\":{\"field\":\"y\"}},\"id\":\"1036\",\"type\":\"Line\"}],\"root_ids\":[\"1002\"]},\"title\":\"Bokeh Application\",\"version\":\"1.2.0\"}};\n",
       "  var render_items = [{\"docid\":\"73a236d0-42a8-459c-a462-9b46e17c4a68\",\"roots\":{\"1002\":\"387b0a28-1918-4996-a45a-51447608b90d\"}}];\n",
       "  root.Bokeh.embed.embed_items_notebook(docs_json, render_items);\n",
       "\n",
       "  }\n",
       "  if (root.Bokeh !== undefined) {\n",
       "    embed_document(root);\n",
       "  } else {\n",
       "    var attempts = 0;\n",
       "    var timer = setInterval(function(root) {\n",
       "      if (root.Bokeh !== undefined) {\n",
       "        embed_document(root);\n",
       "        clearInterval(timer);\n",
       "      }\n",
       "      attempts++;\n",
       "      if (attempts > 100) {\n",
       "        console.log(\"Bokeh: ERROR: Unable to run BokehJS code because BokehJS library is missing\");\n",
       "        clearInterval(timer);\n",
       "      }\n",
       "    }, 10, root)\n",
       "  }\n",
       "})(window);"
      ],
      "application/vnd.bokehjs_exec.v0+json": ""
     },
     "metadata": {
      "application/vnd.bokehjs_exec.v0+json": {
       "id": "1002"
      }
     },
     "output_type": "display_data"
    }
   ],
   "source": [
    "f = plt.figure(x_axis_label='t (ms)', y_axis_label='v (mV)')\n",
    "f.line(t, v, line_width=2)\n",
    "plt.show(f)"
   ]
  },
  {
   "cell_type": "markdown",
   "metadata": {},
   "source": [
    "As we did not insert voltage-gated channels (such as Hodgkin-Huxley -- <tt>hh</tt>), we do not get an action potential in response to the current injection at 20 ms, but we do see an increase in the membrane potential followed by a decay to rest."
   ]
  },
  {
   "cell_type": "markdown",
   "metadata": {},
   "source": [
    "<h3>Using <tt>matplotlib</tt></h3>"
   ]
  },
  {
   "cell_type": "markdown",
   "metadata": {},
   "source": [
    "<a href=\"https://matplotlib.org/\"><tt>matplotlib</tt></a> is a mature non-Javascript based graphics library. While it does offer an interactive Jupyter mode, this interactivity blocks subsequent Python execution until interactive-mode is cancelled."
   ]
  },
  {
   "cell_type": "markdown",
   "metadata": {},
   "source": [
    "In Jupyter, to ensure <tt>matplotlib</tt> graphs appear inline, use:"
   ]
  },
  {
   "cell_type": "code",
   "execution_count": 30,
   "metadata": {},
   "outputs": [],
   "source": [
    "%matplotlib inline"
   ]
  },
  {
   "cell_type": "markdown",
   "metadata": {},
   "source": [
    "(When not using Jupyter, skip the above step -- it would be a syntax error in pure Python. Your graphs will appear in separate windows instead.)"
   ]
  },
  {
   "cell_type": "markdown",
   "metadata": {},
   "source": [
    "As with <tt>bokeh</tt>, we must import the <tt>matplotlib</tt> module before using it. In particular, we will load the <tt>pyplot</tt> submodule and give it the shorter name <tt>plt</tt>:"
   ]
  },
  {
   "cell_type": "code",
   "execution_count": 31,
   "metadata": {},
   "outputs": [],
   "source": [
    "import matplotlib.pyplot as plt"
   ]
  },
  {
   "cell_type": "markdown",
   "metadata": {},
   "source": [
    "The <tt>matplotlib</tt> equivalent to the above <tt>bokeh</tt> example is then:"
   ]
  },
  {
   "cell_type": "code",
   "execution_count": 32,
   "metadata": {},
   "outputs": [
    {
     "data": {
      "image/png": "[encoded data removed]",
      "text/plain": [
       "<Figure size 432x288 with 1 Axes>"
      ]
     },
     "metadata": {
      "needs_background": "light"
     },
     "output_type": "display_data"
    }
   ],
   "source": [
    "plt.figure()\n",
    "plt.plot(t, v)\n",
    "plt.xlabel('t (ms)')\n",
    "plt.ylabel('v (mV)')\n",
    "plt.show()"
   ]
  },
  {
   "cell_type": "markdown",
   "metadata": {},
   "source": [
    "<h2>Step 8: Saving and loading results</h2>"
   ]
  },
  {
   "cell_type": "markdown",
   "metadata": {},
   "source": [
    "<h3>CSV</h3><p>The <tt>csv</tt> (comma separated variables) file format is widely used for data interchange, and can be used to transfer data to MATLAB, Excel, etc without writing any special conversion code.</p><p>(Many Python distributions provide the <tt>pandas</tt> module which can do the same using a slightly simpler interface, but the code below works in all versions of Python... an example of reading CSV using pandas is shown below.)"
   ]
  },
  {
   "cell_type": "markdown",
   "metadata": {},
   "source": [
    "Python provides the <a href=\"https://docs.python.org/3/library/csv.html\"><tt>csv</tt></a> module to simplify reading and writing <tt>csv</tt> files. We load it via:"
   ]
  },
  {
   "cell_type": "code",
   "execution_count": 33,
   "metadata": {},
   "outputs": [],
   "source": [
    "import csv"
   ]
  },
  {
   "cell_type": "markdown",
   "metadata": {},
   "source": [
    "<h4>Writing</h4>"
   ]
  },
  {
   "cell_type": "code",
   "execution_count": 34,
   "metadata": {},
   "outputs": [],
   "source": [
    "with open('data.csv', 'w') as f:\n",
    "    csv.writer(f).writerows(zip(t, v))"
   ]
  },
  {
   "cell_type": "markdown",
   "metadata": {},
   "source": [
    "You should now have a <tt>data.csv</tt> file. Try loading it in your favorite spreadsheet.\n",
    "\n",
    "To write additional variables (as columns) to the CSV file, just add them inside the <tt>zip</tt>; e.g. <tt>zip(t, v1, v2, ca1)</tt>."
   ]
  },
  {
   "cell_type": "markdown",
   "metadata": {},
   "source": [
    "<h4>Reading</h4>"
   ]
  },
  {
   "cell_type": "code",
   "execution_count": 35,
   "metadata": {},
   "outputs": [],
   "source": [
    "with open('data.csv') as f:\n",
    "    reader = csv.reader(f)\n",
    "    tnew, vnew = zip(*[[float(val) for val in row] for row in reader if row])"
   ]
  },
  {
   "cell_type": "markdown",
   "metadata": {},
   "source": [
    "The argument to the <tt>zip</tt> is a nested list comprehension; the zip and the asterisk together effectively transpose the data turning it from a list of (t, v) pairs into a list of t values and a list of v values. For loading more variables, the right hand side of the last line is unchanged; all that changes is that the variables need to be listed on the left; e.g. <tt>tnew, vnew, canew = zip(...)</tt>"
   ]
  },
  {
   "cell_type": "markdown",
   "metadata": {},
   "source": [
    "We can plot our newly loaded data (here with matplotlib) to see that it is the same as before:"
   ]
  },
  {
   "cell_type": "code",
   "execution_count": 36,
   "metadata": {},
   "outputs": [
    {
     "data": {
      "image/png": "[encoded data removed]",
      "text/plain": [
       "<Figure size 432x288 with 1 Axes>"
      ]
     },
     "metadata": {
      "needs_background": "light"
     },
     "output_type": "display_data"
    }
   ],
   "source": [
    "plt.figure()\n",
    "plt.plot(tnew, vnew)\n",
    "plt.xlabel('t (ms)')\n",
    "plt.ylabel('v (mV)')\n",
    "plt.show()"
   ]
  },
  {
   "cell_type": "markdown",
   "metadata": {},
   "source": [
    "<b>Reading and plotting using <tt>plotnine</tt> and <tt>pandas</tt>:</b>"
   ]
  },
  {
   "cell_type": "markdown",
   "metadata": {},
   "source": [
    "The modules <tt>plotnine</tt> and <tt>pandas</tt> are key components of the Python data science ecosystem. We can use them to work with our NEURON data, but they may have to be installed separately."
   ]
  },
  {
   "cell_type": "markdown",
   "metadata": {},
   "source": [
    "First, we'll load the modules. It is common to use shortened names for the modules, but this is not necessary:"
   ]
  },
  {
   "cell_type": "code",
   "execution_count": 37,
   "metadata": {},
   "outputs": [],
   "source": [
    "import plotnine as p9\n",
    "import pandas as pd"
   ]
  },
  {
   "cell_type": "markdown",
   "metadata": {},
   "source": [
    "We can load the data:"
   ]
  },
  {
   "cell_type": "code",
   "execution_count": 38,
   "metadata": {},
   "outputs": [],
   "source": [
    "data = pd.read_csv('data.csv', header=None, names=['t', 'v'])"
   ]
  },
  {
   "cell_type": "markdown",
   "metadata": {},
   "source": [
    "(If the CSV file had a header row identifying the columns, then <tt>pd.read_csv</tt> would have handled the names automatically and we would not have had to specify the last two arguments above.)"
   ]
  },
  {
   "cell_type": "markdown",
   "metadata": {},
   "source": [
    "And now plot with <tt>plotnine</tt>'s version of <tt>ggplot</tt>. This function provides an implementation of Wilkinson's <a href=\"http://doi.org/10.1007/0-387-28695-0\">Grammar of Graphics</a>; as such, the interface is essentially identical to the R function of the same name. "
   ]
  },
  {
   "cell_type": "code",
   "execution_count": 39,
   "metadata": {},
   "outputs": [
    {
     "data": {
      "image/png": "[encoded data removed]",
      "text/plain": [
       "<Figure size 640x480 with 1 Axes>"
      ]
     },
     "metadata": {},
     "output_type": "display_data"
    }
   ],
   "source": [
    "g = (p9.ggplot(data, p9.aes(x='t', y='v')) + p9.geom_path()).draw()"
   ]
  },
  {
   "cell_type": "markdown",
   "metadata": {},
   "source": [
    "<h3>JSON</h3><p>JSON is used for structured data interchange. It is a newer but widely used format and libraries for reading and writing JSON exist for most programming languages.</p><p>Python provides the <a href=\"https://docs.python.org/3/library/json.html\">json</a> module to simplify reading and writing JSON files. We load it via:</p>"
   ]
  },
  {
   "cell_type": "code",
   "execution_count": 40,
   "metadata": {},
   "outputs": [],
   "source": [
    "import json"
   ]
  },
  {
   "cell_type": "markdown",
   "metadata": {},
   "source": [
    "<h4>Writing</h4>"
   ]
  },
  {
   "cell_type": "code",
   "execution_count": 41,
   "metadata": {},
   "outputs": [],
   "source": [
    "with open('data.json', 'w') as f:\n",
    "    json.dump({'t': list(t), 'v': list(v)}, f, indent=4)"
   ]
  },
  {
   "cell_type": "markdown",
   "metadata": {},
   "source": [
    "Here we built a dictionary with keys <tt>t</tt> and <tt>v</tt>, and stored their values as a list. Since JSON is a language-independent format, it does not have a concept of NEURON Vectors, which is why we had to create a list copy of them before saving. The <tt>indent=4</tt> argument is optional, but indents the output to make it more human-readable (at the cost of a larger file size)."
   ]
  },
  {
   "cell_type": "markdown",
   "metadata": {},
   "source": [
    "<h4>Reading</h4>"
   ]
  },
  {
   "cell_type": "code",
   "execution_count": 42,
   "metadata": {},
   "outputs": [],
   "source": [
    "with open('data.json') as f:\n",
    "    data = json.load(f)\n",
    "tnew = data['t']\n",
    "vnew = data['v']"
   ]
  },
  {
   "cell_type": "markdown",
   "metadata": {},
   "source": [
    "As for <tt>csv</tt>, we plot the newly loaded data to show that it is the same as the original:"
   ]
  },
  {
   "cell_type": "code",
   "execution_count": 43,
   "metadata": {},
   "outputs": [
    {
     "data": {
      "image/png": "[encoded data removed]",
      "text/plain": [
       "<Figure size 432x288 with 1 Axes>"
      ]
     },
     "metadata": {
      "needs_background": "light"
     },
     "output_type": "display_data"
    }
   ],
   "source": [
    "plt.figure()\n",
    "plt.plot(tnew, vnew)\n",
    "plt.xlabel('t (ms)')\n",
    "plt.ylabel('v (mV)')\n",
    "plt.show()"
   ]
  },
  {
   "cell_type": "markdown",
   "metadata": {},
   "source": [
    "<h3>Pickles</h3><p>Pickles are a Python-specific data exchange format.</p><p>Python provides the <a href=\"https://docs.python.org/3/library/pickle.html\">pickle</a> module to read and write pickled files. We load it via:"
   ]
  },
  {
   "cell_type": "code",
   "execution_count": 44,
   "metadata": {},
   "outputs": [],
   "source": [
    "import pickle"
   ]
  },
  {
   "cell_type": "markdown",
   "metadata": {},
   "source": [
    "<h4>Writing</h4>"
   ]
  },
  {
   "cell_type": "code",
   "execution_count": 45,
   "metadata": {},
   "outputs": [],
   "source": [
    "with open('data.p', 'wb') as f:\n",
    "    pickle.dump({'t': t, 'v': v}, f)"
   ]
  },
  {
   "cell_type": "markdown",
   "metadata": {},
   "source": [
    "This is slightly cleaner than the JSON solution above because it is Python specific and therefore able to explicitly encode NEURON Vector objects."
   ]
  },
  {
   "cell_type": "markdown",
   "metadata": {},
   "source": [
    "<h4>Reading</h4>"
   ]
  },
  {
   "cell_type": "code",
   "execution_count": 46,
   "metadata": {},
   "outputs": [],
   "source": [
    "with open('data.p', 'rb') as f:\n",
    "    data = pickle.load(f)\n",
    "tnewp = data['t']\n",
    "vnewp = data['v']"
   ]
  },
  {
   "cell_type": "markdown",
   "metadata": {},
   "source": [
    "Pickles in Python 3 are by default binary files, so we have to specify write and read flags of <tt>wb</tt> and <tt>rb</tt> respectively. We use a different variable name here than before simply to indicate that what is loaded in has type"
   ]
  },
  {
   "cell_type": "code",
   "execution_count": 47,
   "metadata": {},
   "outputs": [
    {
     "data": {
      "text/plain": [
       "hoc.HocObject"
      ]
     },
     "execution_count": 47,
     "metadata": {},
     "output_type": "execute_result"
    }
   ],
   "source": [
    "type(tnewp)"
   ]
  },
  {
   "cell_type": "markdown",
   "metadata": {},
   "source": [
    "and in particular is a NEURON <tt>Vector</tt>:"
   ]
  },
  {
   "cell_type": "code",
   "execution_count": 48,
   "metadata": {},
   "outputs": [
    {
     "data": {
      "text/plain": [
       "'Vector[2]'"
      ]
     },
     "execution_count": 48,
     "metadata": {},
     "output_type": "execute_result"
    }
   ],
   "source": [
    "tnewp.hname()"
   ]
  },
  {
   "cell_type": "markdown",
   "metadata": {},
   "source": [
    "Unlike the other solutions provided, which construct regular Python lists:"
   ]
  },
  {
   "cell_type": "code",
   "execution_count": 49,
   "metadata": {},
   "outputs": [
    {
     "data": {
      "text/plain": [
       "list"
      ]
     },
     "execution_count": 49,
     "metadata": {},
     "output_type": "execute_result"
    }
   ],
   "source": [
    "type(tnew)"
   ]
  },
  {
   "cell_type": "markdown",
   "metadata": {},
   "source": [
    "This is a minor distinction though, as we've already seen <tt>list(vec)</tt> copies a Vector <tt>vec</tt> into a new list. Using `h.Vector(old_list)` makes a NEURON Vector that is a copy of `old_list`."
   ]
  },
  {
   "cell_type": "markdown",
   "metadata": {},
   "source": [
    "As before, plotting suggests that we have successfully loaded in the data:"
   ]
  },
  {
   "cell_type": "code",
   "execution_count": 50,
   "metadata": {},
   "outputs": [
    {
     "data": {
      "image/png": "[encoded data removed]",
      "text/plain": [
       "<Figure size 432x288 with 1 Axes>"
      ]
     },
     "metadata": {
      "needs_background": "light"
     },
     "output_type": "display_data"
    }
   ],
   "source": [
    "plt.figure()\n",
    "plt.plot(tnewp, vnewp)\n",
    "plt.xlabel('t (ms)')\n",
    "plt.ylabel('v (mV)')\n",
    "plt.show()"
   ]
  },
  {
   "cell_type": "code",
   "execution_count": null,
   "metadata": {},
   "outputs": [],
   "source": []
  }
 ],
 "metadata": {
  "kernelspec": {
   "display_name": "Python 3",
   "language": "python",
   "name": "python3"
  },
  "language_info": {
   "codemirror_mode": {
    "name": "ipython",
    "version": 3
   },
   "file_extension": ".py",
   "mimetype": "text/x-python",
   "name": "python",
   "nbconvert_exporter": "python",
   "pygments_lexer": "ipython3",
   "version": "3.7.3"
  }
 },
 "nbformat": 4,
 "nbformat_minor": 2
}
